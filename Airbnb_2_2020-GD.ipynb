{
 "cells": [
  {
   "cell_type": "code",
   "execution_count": 59,
   "metadata": {},
   "outputs": [],
   "source": [
    "import pandas as pd\n",
    "import os\n",
    "import numpy as np\n",
    "from glob import glob"
   ]
  },
  {
   "cell_type": "code",
   "execution_count": 60,
   "metadata": {},
   "outputs": [],
   "source": [
    "files = glob('listings_*')"
   ]
  },
  {
   "cell_type": "code",
   "execution_count": 61,
   "metadata": {},
   "outputs": [
    {
     "data": {
      "text/plain": [
       "['listings_10_2020.csv',\n",
       " 'listings_11_2020.csv',\n",
       " 'listings_12_2020.csv',\n",
       " 'listings_1_2020.csv',\n",
       " 'listings_2_2020.csv',\n",
       " 'listings_3_2020.csv',\n",
       " 'listings_4_2020.csv',\n",
       " 'listings_5_2020.csv',\n",
       " 'listings_6_2020.csv',\n",
       " 'listings_7_2020.csv',\n",
       " 'listings_8_2020.csv',\n",
       " 'listings_9_2020.csv']"
      ]
     },
     "execution_count": 61,
     "metadata": {},
     "output_type": "execute_result"
    }
   ],
   "source": [
    "files.sort()\n",
    "files"
   ]
  },
  {
   "cell_type": "code",
   "execution_count": 62,
   "metadata": {},
   "outputs": [],
   "source": [
    "data = pd.concat((pd.read_csv(file) for file in files), ignore_index=True)"
   ]
  },
  {
   "cell_type": "code",
   "execution_count": 63,
   "metadata": {},
   "outputs": [],
   "source": [
    "data_new = data.drop_duplicates()"
   ]
  },
  {
   "cell_type": "code",
   "execution_count": 64,
   "metadata": {},
   "outputs": [
    {
     "data": {
      "text/plain": [
       "(443727, 16)"
      ]
     },
     "execution_count": 64,
     "metadata": {},
     "output_type": "execute_result"
    }
   ],
   "source": [
    "data_new.shape"
   ]
  },
  {
   "cell_type": "code",
   "execution_count": 65,
   "metadata": {},
   "outputs": [],
   "source": [
    "import pandas as pd\n",
    "import numpy as np\n",
    "import matplotlib.pyplot as plt\n",
    "import seaborn as sns\n",
    "%matplotlib inline\n",
    "\n",
    "from wordcloud import WordCloud, STOPWORDS, ImageColorGenerator"
   ]
  },
  {
   "cell_type": "code",
   "execution_count": 66,
   "metadata": {},
   "outputs": [
    {
     "data": {
      "text/plain": [
       "count    443727.000000\n",
       "mean        154.870389\n",
       "std         378.264649\n",
       "min           0.000000\n",
       "25%          65.000000\n",
       "50%         100.000000\n",
       "75%         169.000000\n",
       "max       25000.000000\n",
       "Name: price, dtype: float64"
      ]
     },
     "execution_count": 66,
     "metadata": {},
     "output_type": "execute_result"
    }
   ],
   "source": [
    "data_new['price'].describe()"
   ]
  },
  {
   "cell_type": "code",
   "execution_count": 67,
   "metadata": {},
   "outputs": [
    {
     "name": "stderr",
     "output_type": "stream",
     "text": [
      "C:\\Users\\haris\\anaconda3\\lib\\site-packages\\pandas\\core\\frame.py:3997: SettingWithCopyWarning: \n",
      "A value is trying to be set on a copy of a slice from a DataFrame\n",
      "\n",
      "See the caveats in the documentation: https://pandas.pydata.org/pandas-docs/stable/user_guide/indexing.html#returning-a-view-versus-a-copy\n",
      "  errors=errors,\n"
     ]
    }
   ],
   "source": [
    "# dropping unnecessary column\n",
    "\n",
    "data_new.drop('id', axis=1, inplace=True)\n",
    "data_new.drop('host_id', axis=1, inplace=True)\n",
    "data_new.drop('name', axis=1, inplace=True)\n",
    "data_new.drop('host_name', axis=1, inplace=True)"
   ]
  },
  {
   "cell_type": "code",
   "execution_count": 68,
   "metadata": {},
   "outputs": [
    {
     "name": "stderr",
     "output_type": "stream",
     "text": [
      "C:\\Users\\haris\\anaconda3\\lib\\site-packages\\pandas\\core\\generic.py:6245: SettingWithCopyWarning: \n",
      "A value is trying to be set on a copy of a slice from a DataFrame\n",
      "\n",
      "See the caveats in the documentation: https://pandas.pydata.org/pandas-docs/stable/user_guide/indexing.html#returning-a-view-versus-a-copy\n",
      "  self._update_inplace(new_data)\n"
     ]
    }
   ],
   "source": [
    "data_new['reviews_per_month'].fillna(value=0,inplace=True)\n",
    "data_new.drop('last_review',axis=1,inplace=True)"
   ]
  },
  {
   "cell_type": "code",
   "execution_count": 69,
   "metadata": {},
   "outputs": [
    {
     "data": {
      "text/plain": [
       "availability_365                  0\n",
       "calculated_host_listings_count    0\n",
       "reviews_per_month                 0\n",
       "number_of_reviews                 0\n",
       "minimum_nights                    0\n",
       "price                             0\n",
       "room_type                         0\n",
       "longitude                         0\n",
       "latitude                          0\n",
       "neighbourhood                     0\n",
       "neighbourhood_group               0\n",
       "dtype: int64"
      ]
     },
     "execution_count": 69,
     "metadata": {},
     "output_type": "execute_result"
    }
   ],
   "source": [
    "data_new.isnull().sum().sort_values(ascending=False)"
   ]
  },
  {
   "cell_type": "code",
   "execution_count": 70,
   "metadata": {},
   "outputs": [],
   "source": [
    "#Tukey test will be implemented \n",
    "\n",
    "def tukey_outliers(df, column):\n",
    "    Q1 = np.percentile(df[column], 25)\n",
    "    Q3 = np.percentile(df[column], 75)\n",
    "    IQR = Q3 - Q1\n",
    "    outlier_step = 1.5 * IQR\n",
    "    outliers_index = df[(df[column] < Q1 - outlier_step) | (df[column] > Q3 + outlier_step)].index\n",
    "    return outliers_index"
   ]
  },
  {
   "cell_type": "code",
   "execution_count": 71,
   "metadata": {},
   "outputs": [],
   "source": [
    "outliers_index = tukey_outliers(data_new,'price')\n"
   ]
  },
  {
   "cell_type": "code",
   "execution_count": 72,
   "metadata": {},
   "outputs": [
    {
     "data": {
      "text/plain": [
       "25282"
      ]
     },
     "execution_count": 72,
     "metadata": {},
     "output_type": "execute_result"
    }
   ],
   "source": [
    "len(outliers_index)"
   ]
  },
  {
   "cell_type": "code",
   "execution_count": 73,
   "metadata": {},
   "outputs": [],
   "source": [
    "data_new.drop(outliers_index, inplace=True)\n",
    "data_new.reset_index(drop=True, inplace=True)"
   ]
  },
  {
   "cell_type": "code",
   "execution_count": 74,
   "metadata": {},
   "outputs": [
    {
     "name": "stdout",
     "output_type": "stream",
     "text": [
      "we have 144 listings with price equal to 0.\n"
     ]
    }
   ],
   "source": [
    "print('we have {} listings with price equal to 0.'.format(len(data_new[data_new['price']==0])))"
   ]
  },
  {
   "cell_type": "code",
   "execution_count": 75,
   "metadata": {},
   "outputs": [
    {
     "data": {
      "text/html": [
       "<div>\n",
       "<style scoped>\n",
       "    .dataframe tbody tr th:only-of-type {\n",
       "        vertical-align: middle;\n",
       "    }\n",
       "\n",
       "    .dataframe tbody tr th {\n",
       "        vertical-align: top;\n",
       "    }\n",
       "\n",
       "    .dataframe thead th {\n",
       "        text-align: right;\n",
       "    }\n",
       "</style>\n",
       "<table border=\"1\" class=\"dataframe\">\n",
       "  <thead>\n",
       "    <tr style=\"text-align: right;\">\n",
       "      <th></th>\n",
       "      <th>neighbourhood_group</th>\n",
       "      <th>neighbourhood</th>\n",
       "      <th>latitude</th>\n",
       "      <th>longitude</th>\n",
       "      <th>room_type</th>\n",
       "      <th>price</th>\n",
       "      <th>minimum_nights</th>\n",
       "      <th>number_of_reviews</th>\n",
       "      <th>reviews_per_month</th>\n",
       "      <th>calculated_host_listings_count</th>\n",
       "      <th>availability_365</th>\n",
       "    </tr>\n",
       "  </thead>\n",
       "  <tbody>\n",
       "    <tr>\n",
       "      <th>19400</th>\n",
       "      <td>Manhattan</td>\n",
       "      <td>Murray Hill</td>\n",
       "      <td>40.75091</td>\n",
       "      <td>-73.97597</td>\n",
       "      <td>Entire home/apt</td>\n",
       "      <td>0</td>\n",
       "      <td>3</td>\n",
       "      <td>0</td>\n",
       "      <td>0.00</td>\n",
       "      <td>1</td>\n",
       "      <td>0</td>\n",
       "    </tr>\n",
       "    <tr>\n",
       "      <th>33469</th>\n",
       "      <td>Manhattan</td>\n",
       "      <td>Midtown</td>\n",
       "      <td>40.74749</td>\n",
       "      <td>-73.98717</td>\n",
       "      <td>Private room</td>\n",
       "      <td>0</td>\n",
       "      <td>1</td>\n",
       "      <td>4</td>\n",
       "      <td>0.45</td>\n",
       "      <td>6</td>\n",
       "      <td>26</td>\n",
       "    </tr>\n",
       "    <tr>\n",
       "      <th>33470</th>\n",
       "      <td>Manhattan</td>\n",
       "      <td>Midtown</td>\n",
       "      <td>40.74754</td>\n",
       "      <td>-73.98613</td>\n",
       "      <td>Private room</td>\n",
       "      <td>0</td>\n",
       "      <td>1</td>\n",
       "      <td>1</td>\n",
       "      <td>0.14</td>\n",
       "      <td>6</td>\n",
       "      <td>26</td>\n",
       "    </tr>\n",
       "    <tr>\n",
       "      <th>33472</th>\n",
       "      <td>Manhattan</td>\n",
       "      <td>Midtown</td>\n",
       "      <td>40.74735</td>\n",
       "      <td>-73.98705</td>\n",
       "      <td>Private room</td>\n",
       "      <td>0</td>\n",
       "      <td>1</td>\n",
       "      <td>2</td>\n",
       "      <td>0.21</td>\n",
       "      <td>6</td>\n",
       "      <td>26</td>\n",
       "    </tr>\n",
       "    <tr>\n",
       "      <th>33473</th>\n",
       "      <td>Manhattan</td>\n",
       "      <td>Midtown</td>\n",
       "      <td>40.74851</td>\n",
       "      <td>-73.98759</td>\n",
       "      <td>Private room</td>\n",
       "      <td>0</td>\n",
       "      <td>1</td>\n",
       "      <td>21</td>\n",
       "      <td>2.40</td>\n",
       "      <td>6</td>\n",
       "      <td>26</td>\n",
       "    </tr>\n",
       "    <tr>\n",
       "      <th>...</th>\n",
       "      <td>...</td>\n",
       "      <td>...</td>\n",
       "      <td>...</td>\n",
       "      <td>...</td>\n",
       "      <td>...</td>\n",
       "      <td>...</td>\n",
       "      <td>...</td>\n",
       "      <td>...</td>\n",
       "      <td>...</td>\n",
       "      <td>...</td>\n",
       "      <td>...</td>\n",
       "    </tr>\n",
       "    <tr>\n",
       "      <th>411528</th>\n",
       "      <td>Manhattan</td>\n",
       "      <td>Midtown</td>\n",
       "      <td>40.74749</td>\n",
       "      <td>-73.98717</td>\n",
       "      <td>Private room</td>\n",
       "      <td>0</td>\n",
       "      <td>1</td>\n",
       "      <td>4</td>\n",
       "      <td>0.50</td>\n",
       "      <td>5</td>\n",
       "      <td>0</td>\n",
       "    </tr>\n",
       "    <tr>\n",
       "      <th>411529</th>\n",
       "      <td>Manhattan</td>\n",
       "      <td>Midtown</td>\n",
       "      <td>40.74754</td>\n",
       "      <td>-73.98613</td>\n",
       "      <td>Private room</td>\n",
       "      <td>0</td>\n",
       "      <td>1</td>\n",
       "      <td>1</td>\n",
       "      <td>0.16</td>\n",
       "      <td>5</td>\n",
       "      <td>0</td>\n",
       "    </tr>\n",
       "    <tr>\n",
       "      <th>411531</th>\n",
       "      <td>Manhattan</td>\n",
       "      <td>Midtown</td>\n",
       "      <td>40.74735</td>\n",
       "      <td>-73.98705</td>\n",
       "      <td>Private room</td>\n",
       "      <td>0</td>\n",
       "      <td>1</td>\n",
       "      <td>2</td>\n",
       "      <td>0.24</td>\n",
       "      <td>5</td>\n",
       "      <td>0</td>\n",
       "    </tr>\n",
       "    <tr>\n",
       "      <th>411532</th>\n",
       "      <td>Manhattan</td>\n",
       "      <td>Midtown</td>\n",
       "      <td>40.74851</td>\n",
       "      <td>-73.98759</td>\n",
       "      <td>Private room</td>\n",
       "      <td>0</td>\n",
       "      <td>1</td>\n",
       "      <td>21</td>\n",
       "      <td>2.69</td>\n",
       "      <td>5</td>\n",
       "      <td>0</td>\n",
       "    </tr>\n",
       "    <tr>\n",
       "      <th>415193</th>\n",
       "      <td>Manhattan</td>\n",
       "      <td>Chinatown</td>\n",
       "      <td>40.71610</td>\n",
       "      <td>-73.99518</td>\n",
       "      <td>Hotel room</td>\n",
       "      <td>0</td>\n",
       "      <td>1</td>\n",
       "      <td>0</td>\n",
       "      <td>0.00</td>\n",
       "      <td>7</td>\n",
       "      <td>0</td>\n",
       "    </tr>\n",
       "  </tbody>\n",
       "</table>\n",
       "<p>144 rows × 11 columns</p>\n",
       "</div>"
      ],
      "text/plain": [
       "       neighbourhood_group neighbourhood  latitude  longitude  \\\n",
       "19400            Manhattan   Murray Hill  40.75091  -73.97597   \n",
       "33469            Manhattan       Midtown  40.74749  -73.98717   \n",
       "33470            Manhattan       Midtown  40.74754  -73.98613   \n",
       "33472            Manhattan       Midtown  40.74735  -73.98705   \n",
       "33473            Manhattan       Midtown  40.74851  -73.98759   \n",
       "...                    ...           ...       ...        ...   \n",
       "411528           Manhattan       Midtown  40.74749  -73.98717   \n",
       "411529           Manhattan       Midtown  40.74754  -73.98613   \n",
       "411531           Manhattan       Midtown  40.74735  -73.98705   \n",
       "411532           Manhattan       Midtown  40.74851  -73.98759   \n",
       "415193           Manhattan     Chinatown  40.71610  -73.99518   \n",
       "\n",
       "              room_type  price  minimum_nights  number_of_reviews  \\\n",
       "19400   Entire home/apt      0               3                  0   \n",
       "33469      Private room      0               1                  4   \n",
       "33470      Private room      0               1                  1   \n",
       "33472      Private room      0               1                  2   \n",
       "33473      Private room      0               1                 21   \n",
       "...                 ...    ...             ...                ...   \n",
       "411528     Private room      0               1                  4   \n",
       "411529     Private room      0               1                  1   \n",
       "411531     Private room      0               1                  2   \n",
       "411532     Private room      0               1                 21   \n",
       "415193       Hotel room      0               1                  0   \n",
       "\n",
       "        reviews_per_month  calculated_host_listings_count  availability_365  \n",
       "19400                0.00                               1                 0  \n",
       "33469                0.45                               6                26  \n",
       "33470                0.14                               6                26  \n",
       "33472                0.21                               6                26  \n",
       "33473                2.40                               6                26  \n",
       "...                   ...                             ...               ...  \n",
       "411528               0.50                               5                 0  \n",
       "411529               0.16                               5                 0  \n",
       "411531               0.24                               5                 0  \n",
       "411532               2.69                               5                 0  \n",
       "415193               0.00                               7                 0  \n",
       "\n",
       "[144 rows x 11 columns]"
      ]
     },
     "execution_count": 75,
     "metadata": {},
     "output_type": "execute_result"
    }
   ],
   "source": [
    "price_0 = data_new[data_new['price']==0]\n",
    "price_0"
   ]
  },
  {
   "cell_type": "code",
   "execution_count": 76,
   "metadata": {},
   "outputs": [
    {
     "data": {
      "text/plain": [
       "Hotel room         54\n",
       "Private room       52\n",
       "Entire home/apt    38\n",
       "Name: room_type, dtype: int64"
      ]
     },
     "execution_count": 76,
     "metadata": {},
     "output_type": "execute_result"
    }
   ],
   "source": [
    "price_0['room_type'].value_counts()"
   ]
  },
  {
   "cell_type": "code",
   "execution_count": 77,
   "metadata": {},
   "outputs": [
    {
     "name": "stderr",
     "output_type": "stream",
     "text": [
      "C:\\Users\\haris\\anaconda3\\lib\\site-packages\\pandas\\core\\frame.py:3997: SettingWithCopyWarning: \n",
      "A value is trying to be set on a copy of a slice from a DataFrame\n",
      "\n",
      "See the caveats in the documentation: https://pandas.pydata.org/pandas-docs/stable/user_guide/indexing.html#returning-a-view-versus-a-copy\n",
      "  errors=errors,\n"
     ]
    }
   ],
   "source": [
    "data_new.drop(data_new[data_new['price']==0].index, inplace=True)\n"
   ]
  },
  {
   "cell_type": "code",
   "execution_count": 78,
   "metadata": {},
   "outputs": [],
   "source": [
    "data_new.reset_index(drop=True, inplace=True)\n"
   ]
  },
  {
   "cell_type": "code",
   "execution_count": 79,
   "metadata": {},
   "outputs": [
    {
     "data": {
      "text/html": [
       "<div>\n",
       "<style scoped>\n",
       "    .dataframe tbody tr th:only-of-type {\n",
       "        vertical-align: middle;\n",
       "    }\n",
       "\n",
       "    .dataframe tbody tr th {\n",
       "        vertical-align: top;\n",
       "    }\n",
       "\n",
       "    .dataframe thead th {\n",
       "        text-align: right;\n",
       "    }\n",
       "</style>\n",
       "<table border=\"1\" class=\"dataframe\">\n",
       "  <thead>\n",
       "    <tr style=\"text-align: right;\">\n",
       "      <th></th>\n",
       "      <th>neighbourhood_group</th>\n",
       "      <th>neighbourhood</th>\n",
       "      <th>latitude</th>\n",
       "      <th>longitude</th>\n",
       "      <th>room_type</th>\n",
       "      <th>price</th>\n",
       "      <th>minimum_nights</th>\n",
       "      <th>number_of_reviews</th>\n",
       "      <th>reviews_per_month</th>\n",
       "      <th>calculated_host_listings_count</th>\n",
       "      <th>availability_365</th>\n",
       "    </tr>\n",
       "  </thead>\n",
       "  <tbody>\n",
       "    <tr>\n",
       "      <th>0</th>\n",
       "      <td>Manhattan</td>\n",
       "      <td>Midtown</td>\n",
       "      <td>40.75362</td>\n",
       "      <td>-73.98377</td>\n",
       "      <td>Entire home/apt</td>\n",
       "      <td>175</td>\n",
       "      <td>3</td>\n",
       "      <td>48</td>\n",
       "      <td>0.36</td>\n",
       "      <td>2</td>\n",
       "      <td>365</td>\n",
       "    </tr>\n",
       "    <tr>\n",
       "      <th>1</th>\n",
       "      <td>Brooklyn</td>\n",
       "      <td>Clinton Hill</td>\n",
       "      <td>40.68514</td>\n",
       "      <td>-73.95976</td>\n",
       "      <td>Entire home/apt</td>\n",
       "      <td>76</td>\n",
       "      <td>1</td>\n",
       "      <td>354</td>\n",
       "      <td>4.82</td>\n",
       "      <td>1</td>\n",
       "      <td>2</td>\n",
       "    </tr>\n",
       "    <tr>\n",
       "      <th>2</th>\n",
       "      <td>Brooklyn</td>\n",
       "      <td>Bedford-Stuyvesant</td>\n",
       "      <td>40.68688</td>\n",
       "      <td>-73.95596</td>\n",
       "      <td>Private room</td>\n",
       "      <td>60</td>\n",
       "      <td>29</td>\n",
       "      <td>50</td>\n",
       "      <td>0.36</td>\n",
       "      <td>1</td>\n",
       "      <td>2</td>\n",
       "    </tr>\n",
       "  </tbody>\n",
       "</table>\n",
       "</div>"
      ],
      "text/plain": [
       "  neighbourhood_group       neighbourhood  latitude  longitude  \\\n",
       "0           Manhattan             Midtown  40.75362  -73.98377   \n",
       "1            Brooklyn        Clinton Hill  40.68514  -73.95976   \n",
       "2            Brooklyn  Bedford-Stuyvesant  40.68688  -73.95596   \n",
       "\n",
       "         room_type  price  minimum_nights  number_of_reviews  \\\n",
       "0  Entire home/apt    175               3                 48   \n",
       "1  Entire home/apt     76               1                354   \n",
       "2     Private room     60              29                 50   \n",
       "\n",
       "   reviews_per_month  calculated_host_listings_count  availability_365  \n",
       "0               0.36                               2               365  \n",
       "1               4.82                               1                 2  \n",
       "2               0.36                               1                 2  "
      ]
     },
     "execution_count": 79,
     "metadata": {},
     "output_type": "execute_result"
    }
   ],
   "source": [
    "data_new.head(3)"
   ]
  },
  {
   "cell_type": "code",
   "execution_count": 80,
   "metadata": {},
   "outputs": [
    {
     "data": {
      "image/png": "[encoded data removed]",
      "text/plain": [
       "<Figure size 1152x432 with 2 Axes>"
      ]
     },
     "metadata": {
      "needs_background": "light"
     },
     "output_type": "display_data"
    }
   ],
   "source": [
    "#Target:Price\n",
    "\n",
    "fig = plt.figure(figsize=(16,6))\n",
    "\n",
    "ax1 = fig.add_subplot(121)\n",
    "sns.boxplot(y = data_new['price'], ax=ax1, color='yellow')\n",
    "describe = data_new['price'].describe().to_frame().round(2)\n",
    "\n",
    "ax2 = fig.add_subplot(122)\n",
    "ax2.axis('off')\n",
    "font_size = 16\n",
    "bbox = [0, 0, 1, 1]\n",
    "table = ax2.table(cellText = describe.values, rowLabels = describe.index, bbox=bbox, colLabels=describe.columns)\n",
    "table.set_fontsize(font_size)\n",
    "fig.suptitle('Distribution of prices (with outliers)', fontsize=16)\n",
    "plt.show()"
   ]
  },
  {
   "cell_type": "code",
   "execution_count": 81,
   "metadata": {},
   "outputs": [
    {
     "data": {
      "image/png": "[encoded data removed]",
      "text/plain": [
       "<Figure size 1440x360 with 1 Axes>"
      ]
     },
     "metadata": {
      "needs_background": "light"
     },
     "output_type": "display_data"
    }
   ],
   "source": [
    "fig = plt.figure(figsize=(20,5))\n",
    "sns.distplot(data['price'],color='orange')\n",
    "plt.show()"
   ]
  },
  {
   "cell_type": "code",
   "execution_count": 82,
   "metadata": {},
   "outputs": [
    {
     "name": "stdout",
     "output_type": "stream",
     "text": [
      "price           Skewness: 00.98 Min value: 9\n",
      "minimum_nights  Skewness: 14.94 Min value: 1\n",
      "calculated_host_listings_count Skewness: 06.70 Min value: 1\n",
      "number_of_reviews Skewness: 03.41 Min value: 0\n",
      "reviews_per_month Skewness: 03.98 Min value: 0.0\n",
      "availability_365 Skewness: 00.51 Min value: 0\n"
     ]
    }
   ],
   "source": [
    "dists = data_new[['price', 'minimum_nights',\n",
    "       'calculated_host_listings_count','number_of_reviews','reviews_per_month','availability_365']]\n",
    "\n",
    "skewed_features = []\n",
    "for column in dists:\n",
    "    skew = abs(data_new[column].skew())\n",
    "    print('{:15}'.format(column), \n",
    "          'Skewness: {:05.2f}'.format(skew),'Min value: {}'.format(data_new[column].min()))"
   ]
  },
  {
   "cell_type": "code",
   "execution_count": 83,
   "metadata": {},
   "outputs": [],
   "source": [
    "from scipy.stats import boxcox\n",
    "from scipy.special import boxcox1p\n",
    "from scipy.special import inv_boxcox\n",
    "from sklearn.preprocessing import PowerTransformer"
   ]
  },
  {
   "cell_type": "code",
   "execution_count": 84,
   "metadata": {},
   "outputs": [],
   "source": [
    "\n",
    "#Yeo-Johnson transformation\n",
    "pt = PowerTransformer(method='yeo-johnson')"
   ]
  },
  {
   "cell_type": "code",
   "execution_count": 85,
   "metadata": {},
   "outputs": [
    {
     "name": "stdout",
     "output_type": "stream",
     "text": [
      "\"price lambda\": 0.08544778389437244\n"
     ]
    },
    {
     "name": "stderr",
     "output_type": "stream",
     "text": [
      "C:\\Users\\haris\\anaconda3\\lib\\site-packages\\ipykernel_launcher.py:1: SettingWithCopyWarning: \n",
      "A value is trying to be set on a copy of a slice from a DataFrame.\n",
      "Try using .loc[row_indexer,col_indexer] = value instead\n",
      "\n",
      "See the caveats in the documentation: https://pandas.pydata.org/pandas-docs/stable/user_guide/indexing.html#returning-a-view-versus-a-copy\n",
      "  \"\"\"Entry point for launching an IPython kernel.\n"
     ]
    }
   ],
   "source": [
    "data_new['price'],price_lambda = boxcox(data_new['price'])\n",
    "print('\"price lambda\": {}'.format(price_lambda))"
   ]
  },
  {
   "cell_type": "code",
   "execution_count": 86,
   "metadata": {},
   "outputs": [
    {
     "name": "stdout",
     "output_type": "stream",
     "text": [
      "\"minimum_nights lambda\": -0.3757790878021529\n"
     ]
    },
    {
     "name": "stderr",
     "output_type": "stream",
     "text": [
      "C:\\Users\\haris\\anaconda3\\lib\\site-packages\\ipykernel_launcher.py:1: SettingWithCopyWarning: \n",
      "A value is trying to be set on a copy of a slice from a DataFrame.\n",
      "Try using .loc[row_indexer,col_indexer] = value instead\n",
      "\n",
      "See the caveats in the documentation: https://pandas.pydata.org/pandas-docs/stable/user_guide/indexing.html#returning-a-view-versus-a-copy\n",
      "  \"\"\"Entry point for launching an IPython kernel.\n"
     ]
    }
   ],
   "source": [
    "data_new['minimum_nights'],lam = boxcox(data_new['minimum_nights'])\n",
    "print('\"minimum_nights lambda\": {}'.format(lam))"
   ]
  },
  {
   "cell_type": "code",
   "execution_count": 87,
   "metadata": {},
   "outputs": [
    {
     "name": "stdout",
     "output_type": "stream",
     "text": [
      "calculated_host_listings_count: -0.9952732587556157\n"
     ]
    },
    {
     "name": "stderr",
     "output_type": "stream",
     "text": [
      "C:\\Users\\haris\\anaconda3\\lib\\site-packages\\ipykernel_launcher.py:1: SettingWithCopyWarning: \n",
      "A value is trying to be set on a copy of a slice from a DataFrame.\n",
      "Try using .loc[row_indexer,col_indexer] = value instead\n",
      "\n",
      "See the caveats in the documentation: https://pandas.pydata.org/pandas-docs/stable/user_guide/indexing.html#returning-a-view-versus-a-copy\n",
      "  \"\"\"Entry point for launching an IPython kernel.\n"
     ]
    }
   ],
   "source": [
    "data_new['calculated_host_listings_count'],lam = boxcox(data_new['calculated_host_listings_count'])\n",
    "print('calculated_host_listings_count: {}'.format(lam))"
   ]
  },
  {
   "cell_type": "code",
   "execution_count": 88,
   "metadata": {},
   "outputs": [
    {
     "name": "stdout",
     "output_type": "stream",
     "text": [
      "[-0.05825883]\n"
     ]
    }
   ],
   "source": [
    "values = data_new['number_of_reviews'].values\n",
    "data1 = pd.DataFrame({'x':values})\n",
    "pt.fit(data1)\n",
    "print(pt.lambdas_)"
   ]
  },
  {
   "cell_type": "code",
   "execution_count": 89,
   "metadata": {},
   "outputs": [
    {
     "name": "stdout",
     "output_type": "stream",
     "text": [
      "\"number_of_reviews lambda: [-0.05825883]\"\n"
     ]
    },
    {
     "name": "stderr",
     "output_type": "stream",
     "text": [
      "C:\\Users\\haris\\anaconda3\\lib\\site-packages\\ipykernel_launcher.py:1: SettingWithCopyWarning: \n",
      "A value is trying to be set on a copy of a slice from a DataFrame.\n",
      "Try using .loc[row_indexer,col_indexer] = value instead\n",
      "\n",
      "See the caveats in the documentation: https://pandas.pydata.org/pandas-docs/stable/user_guide/indexing.html#returning-a-view-versus-a-copy\n",
      "  \"\"\"Entry point for launching an IPython kernel.\n"
     ]
    }
   ],
   "source": [
    "data_new['number_of_reviews']= boxcox1p(data_new['number_of_reviews'],pt.lambdas_)\n",
    "print('\"number_of_reviews lambda: {}\"'.format(pt.lambdas_))"
   ]
  },
  {
   "cell_type": "code",
   "execution_count": 90,
   "metadata": {},
   "outputs": [
    {
     "name": "stdout",
     "output_type": "stream",
     "text": [
      "[-0.97882506]\n"
     ]
    }
   ],
   "source": [
    "values = data_new['reviews_per_month'].values\n",
    "data2 = pd.DataFrame({'x':values})\n",
    "pt.fit(data2)\n",
    "print(pt.lambdas_)"
   ]
  },
  {
   "cell_type": "code",
   "execution_count": 91,
   "metadata": {},
   "outputs": [
    {
     "name": "stdout",
     "output_type": "stream",
     "text": [
      "\"reviews_per_month lambda: [-0.97882506]\"\n"
     ]
    },
    {
     "name": "stderr",
     "output_type": "stream",
     "text": [
      "C:\\Users\\haris\\anaconda3\\lib\\site-packages\\ipykernel_launcher.py:1: SettingWithCopyWarning: \n",
      "A value is trying to be set on a copy of a slice from a DataFrame.\n",
      "Try using .loc[row_indexer,col_indexer] = value instead\n",
      "\n",
      "See the caveats in the documentation: https://pandas.pydata.org/pandas-docs/stable/user_guide/indexing.html#returning-a-view-versus-a-copy\n",
      "  \"\"\"Entry point for launching an IPython kernel.\n"
     ]
    }
   ],
   "source": [
    "data_new['reviews_per_month']= boxcox1p(data_new['reviews_per_month'],pt.lambdas_)\n",
    "print('\"reviews_per_month lambda: {}\"'.format(pt.lambdas_))"
   ]
  },
  {
   "cell_type": "code",
   "execution_count": 92,
   "metadata": {},
   "outputs": [
    {
     "name": "stdout",
     "output_type": "stream",
     "text": [
      "[0.21229907]\n"
     ]
    }
   ],
   "source": [
    "values = data_new['availability_365'].values\n",
    "data3 = pd.DataFrame({'x':values})\n",
    "pt.fit(data3)\n",
    "print(pt.lambdas_)"
   ]
  },
  {
   "cell_type": "code",
   "execution_count": 93,
   "metadata": {},
   "outputs": [
    {
     "name": "stdout",
     "output_type": "stream",
     "text": [
      "\"availability_365 lambda: [0.21229907]\"\n"
     ]
    },
    {
     "name": "stderr",
     "output_type": "stream",
     "text": [
      "C:\\Users\\haris\\anaconda3\\lib\\site-packages\\ipykernel_launcher.py:1: SettingWithCopyWarning: \n",
      "A value is trying to be set on a copy of a slice from a DataFrame.\n",
      "Try using .loc[row_indexer,col_indexer] = value instead\n",
      "\n",
      "See the caveats in the documentation: https://pandas.pydata.org/pandas-docs/stable/user_guide/indexing.html#returning-a-view-versus-a-copy\n",
      "  \"\"\"Entry point for launching an IPython kernel.\n"
     ]
    }
   ],
   "source": [
    "data_new['availability_365']= boxcox1p(data_new['availability_365'],pt.lambdas_)\n",
    "print('\"availability_365 lambda: {}\"'.format(pt.lambdas_))"
   ]
  },
  {
   "cell_type": "code",
   "execution_count": 94,
   "metadata": {},
   "outputs": [
    {
     "data": {
      "text/html": [
       "<div>\n",
       "<style scoped>\n",
       "    .dataframe tbody tr th:only-of-type {\n",
       "        vertical-align: middle;\n",
       "    }\n",
       "\n",
       "    .dataframe tbody tr th {\n",
       "        vertical-align: top;\n",
       "    }\n",
       "\n",
       "    .dataframe thead th {\n",
       "        text-align: right;\n",
       "    }\n",
       "</style>\n",
       "<table border=\"1\" class=\"dataframe\">\n",
       "  <thead>\n",
       "    <tr style=\"text-align: right;\">\n",
       "      <th></th>\n",
       "      <th>neighbourhood_group</th>\n",
       "      <th>neighbourhood</th>\n",
       "      <th>latitude</th>\n",
       "      <th>longitude</th>\n",
       "      <th>room_type</th>\n",
       "      <th>price</th>\n",
       "      <th>minimum_nights</th>\n",
       "      <th>number_of_reviews</th>\n",
       "      <th>reviews_per_month</th>\n",
       "      <th>calculated_host_listings_count</th>\n",
       "      <th>availability_365</th>\n",
       "    </tr>\n",
       "  </thead>\n",
       "  <tbody>\n",
       "    <tr>\n",
       "      <th>0</th>\n",
       "      <td>Manhattan</td>\n",
       "      <td>Midtown</td>\n",
       "      <td>40.75362</td>\n",
       "      <td>-73.98377</td>\n",
       "      <td>Entire home/apt</td>\n",
       "      <td>6.492356</td>\n",
       "      <td>0.900074</td>\n",
       "      <td>3.482156</td>\n",
       "      <td>0.265525</td>\n",
       "      <td>0.500726</td>\n",
       "      <td>11.781787</td>\n",
       "    </tr>\n",
       "    <tr>\n",
       "      <th>1</th>\n",
       "      <td>Brooklyn</td>\n",
       "      <td>Clinton Hill</td>\n",
       "      <td>40.68514</td>\n",
       "      <td>-73.95976</td>\n",
       "      <td>Entire home/apt</td>\n",
       "      <td>5.240736</td>\n",
       "      <td>0.000000</td>\n",
       "      <td>4.973062</td>\n",
       "      <td>0.839424</td>\n",
       "      <td>0.000000</td>\n",
       "      <td>1.237299</td>\n",
       "    </tr>\n",
       "    <tr>\n",
       "      <th>2</th>\n",
       "      <td>Brooklyn</td>\n",
       "      <td>Bedford-Stuyvesant</td>\n",
       "      <td>40.68688</td>\n",
       "      <td>-73.95596</td>\n",
       "      <td>Private room</td>\n",
       "      <td>4.901923</td>\n",
       "      <td>1.910330</td>\n",
       "      <td>3.514008</td>\n",
       "      <td>0.265525</td>\n",
       "      <td>0.000000</td>\n",
       "      <td>1.237299</td>\n",
       "    </tr>\n",
       "    <tr>\n",
       "      <th>3</th>\n",
       "      <td>Brooklyn</td>\n",
       "      <td>Sunset Park</td>\n",
       "      <td>40.66120</td>\n",
       "      <td>-73.99423</td>\n",
       "      <td>Entire home/apt</td>\n",
       "      <td>6.492356</td>\n",
       "      <td>1.380291</td>\n",
       "      <td>0.679338</td>\n",
       "      <td>0.009902</td>\n",
       "      <td>0.000000</td>\n",
       "      <td>11.724015</td>\n",
       "    </tr>\n",
       "    <tr>\n",
       "      <th>4</th>\n",
       "      <td>Manhattan</td>\n",
       "      <td>Hell's Kitchen</td>\n",
       "      <td>40.76489</td>\n",
       "      <td>-73.98493</td>\n",
       "      <td>Private room</td>\n",
       "      <td>5.182527</td>\n",
       "      <td>0.610228</td>\n",
       "      <td>5.176675</td>\n",
       "      <td>0.782044</td>\n",
       "      <td>0.000000</td>\n",
       "      <td>11.635918</td>\n",
       "    </tr>\n",
       "  </tbody>\n",
       "</table>\n",
       "</div>"
      ],
      "text/plain": [
       "  neighbourhood_group       neighbourhood  latitude  longitude  \\\n",
       "0           Manhattan             Midtown  40.75362  -73.98377   \n",
       "1            Brooklyn        Clinton Hill  40.68514  -73.95976   \n",
       "2            Brooklyn  Bedford-Stuyvesant  40.68688  -73.95596   \n",
       "3            Brooklyn         Sunset Park  40.66120  -73.99423   \n",
       "4           Manhattan      Hell's Kitchen  40.76489  -73.98493   \n",
       "\n",
       "         room_type     price  minimum_nights  number_of_reviews  \\\n",
       "0  Entire home/apt  6.492356        0.900074           3.482156   \n",
       "1  Entire home/apt  5.240736        0.000000           4.973062   \n",
       "2     Private room  4.901923        1.910330           3.514008   \n",
       "3  Entire home/apt  6.492356        1.380291           0.679338   \n",
       "4     Private room  5.182527        0.610228           5.176675   \n",
       "\n",
       "   reviews_per_month  calculated_host_listings_count  availability_365  \n",
       "0           0.265525                        0.500726         11.781787  \n",
       "1           0.839424                        0.000000          1.237299  \n",
       "2           0.265525                        0.000000          1.237299  \n",
       "3           0.009902                        0.000000         11.724015  \n",
       "4           0.782044                        0.000000         11.635918  "
      ]
     },
     "execution_count": 94,
     "metadata": {},
     "output_type": "execute_result"
    }
   ],
   "source": [
    "data_new.head()"
   ]
  },
  {
   "cell_type": "code",
   "execution_count": 95,
   "metadata": {},
   "outputs": [
    {
     "data": {
      "image/png": "[encoded data removed]",
      "text/plain": [
       "<Figure size 1440x360 with 1 Axes>"
      ]
     },
     "metadata": {
      "needs_background": "light"
     },
     "output_type": "display_data"
    }
   ],
   "source": [
    "fig = plt.figure(figsize=(20,5))\n",
    "sns.distplot(data['price'],color='orange')\n",
    "plt.show()"
   ]
  },
  {
   "cell_type": "code",
   "execution_count": 96,
   "metadata": {},
   "outputs": [
    {
     "data": {
      "image/png": "[encoded data removed]",
      "text/plain": [
       "<Figure size 1440x2880 with 12 Axes>"
      ]
     },
     "metadata": {
      "needs_background": "light"
     },
     "output_type": "display_data"
    }
   ],
   "source": [
    "dists = data_new[['price', 'minimum_nights',\n",
    "       'calculated_host_listings_count','number_of_reviews','reviews_per_month','availability_365']]\n",
    "\n",
    "fig, ax = plt.subplots(6,2,figsize=(20,40))\n",
    "bbox = [0, 0, 1, 1]\n",
    "fontsize = 15\n",
    "colors = ['gold','blue','lawngreen','deeppink','red','orange','darkcyan','yellow']\n",
    "\n",
    "for i in range(len(dists.columns)):\n",
    "    describe = data_new[dists.columns[i]].describe().to_frame().round(2)\n",
    "    sns.boxplot(y=data_new[dists.columns[i]],ax=ax[i][0], color=colors[i])\n",
    "    table = ax[i][1].table(cellText = describe.values, rowLabels = describe.index, bbox=bbox, colLabels=describe.columns)\n",
    "    table.set_fontsize(font_size)\n",
    "    ax[i][1].axis('off')\n",
    "    ax[i][0].title.set_text('Boxplot of {} feature'.format(dists.columns[i]))\n",
    "\n",
    "\n",
    "\n",
    "plt.show()"
   ]
  },
  {
   "cell_type": "code",
   "execution_count": 97,
   "metadata": {},
   "outputs": [],
   "source": [
    "from sklearn.model_selection import train_test_split, KFold, cross_val_score\n",
    "from sklearn.preprocessing import LabelEncoder"
   ]
  },
  {
   "cell_type": "code",
   "execution_count": 98,
   "metadata": {},
   "outputs": [
    {
     "name": "stderr",
     "output_type": "stream",
     "text": [
      "C:\\Users\\haris\\anaconda3\\lib\\site-packages\\ipykernel_launcher.py:3: SettingWithCopyWarning: \n",
      "A value is trying to be set on a copy of a slice from a DataFrame.\n",
      "Try using .loc[row_indexer,col_indexer] = value instead\n",
      "\n",
      "See the caveats in the documentation: https://pandas.pydata.org/pandas-docs/stable/user_guide/indexing.html#returning-a-view-versus-a-copy\n",
      "  This is separate from the ipykernel package so we can avoid doing imports until\n",
      "C:\\Users\\haris\\anaconda3\\lib\\site-packages\\ipykernel_launcher.py:4: SettingWithCopyWarning: \n",
      "A value is trying to be set on a copy of a slice from a DataFrame.\n",
      "Try using .loc[row_indexer,col_indexer] = value instead\n",
      "\n",
      "See the caveats in the documentation: https://pandas.pydata.org/pandas-docs/stable/user_guide/indexing.html#returning-a-view-versus-a-copy\n",
      "  after removing the cwd from sys.path.\n"
     ]
    }
   ],
   "source": [
    "#transforming the categorical data\n",
    "labelencoder = LabelEncoder()\n",
    "data_new['neighbourhood'] = labelencoder.fit_transform(data_new['neighbourhood'])\n",
    "data_new['neighbourhood_group'] = labelencoder.fit_transform(data_new['neighbourhood_group'])"
   ]
  },
  {
   "cell_type": "code",
   "execution_count": 99,
   "metadata": {},
   "outputs": [
    {
     "data": {
      "text/html": [
       "<div>\n",
       "<style scoped>\n",
       "    .dataframe tbody tr th:only-of-type {\n",
       "        vertical-align: middle;\n",
       "    }\n",
       "\n",
       "    .dataframe tbody tr th {\n",
       "        vertical-align: top;\n",
       "    }\n",
       "\n",
       "    .dataframe thead th {\n",
       "        text-align: right;\n",
       "    }\n",
       "</style>\n",
       "<table border=\"1\" class=\"dataframe\">\n",
       "  <thead>\n",
       "    <tr style=\"text-align: right;\">\n",
       "      <th></th>\n",
       "      <th>neighbourhood_group</th>\n",
       "      <th>neighbourhood</th>\n",
       "      <th>latitude</th>\n",
       "      <th>longitude</th>\n",
       "      <th>room_type</th>\n",
       "      <th>price</th>\n",
       "      <th>minimum_nights</th>\n",
       "      <th>number_of_reviews</th>\n",
       "      <th>reviews_per_month</th>\n",
       "      <th>calculated_host_listings_count</th>\n",
       "      <th>availability_365</th>\n",
       "    </tr>\n",
       "  </thead>\n",
       "  <tbody>\n",
       "    <tr>\n",
       "      <th>0</th>\n",
       "      <td>2</td>\n",
       "      <td>129</td>\n",
       "      <td>40.75362</td>\n",
       "      <td>-73.98377</td>\n",
       "      <td>Entire home/apt</td>\n",
       "      <td>6.492356</td>\n",
       "      <td>0.900074</td>\n",
       "      <td>3.482156</td>\n",
       "      <td>0.265525</td>\n",
       "      <td>0.500726</td>\n",
       "      <td>11.781787</td>\n",
       "    </tr>\n",
       "    <tr>\n",
       "      <th>1</th>\n",
       "      <td>1</td>\n",
       "      <td>41</td>\n",
       "      <td>40.68514</td>\n",
       "      <td>-73.95976</td>\n",
       "      <td>Entire home/apt</td>\n",
       "      <td>5.240736</td>\n",
       "      <td>0.000000</td>\n",
       "      <td>4.973062</td>\n",
       "      <td>0.839424</td>\n",
       "      <td>0.000000</td>\n",
       "      <td>1.237299</td>\n",
       "    </tr>\n",
       "    <tr>\n",
       "      <th>2</th>\n",
       "      <td>1</td>\n",
       "      <td>13</td>\n",
       "      <td>40.68688</td>\n",
       "      <td>-73.95596</td>\n",
       "      <td>Private room</td>\n",
       "      <td>4.901923</td>\n",
       "      <td>1.910330</td>\n",
       "      <td>3.514008</td>\n",
       "      <td>0.265525</td>\n",
       "      <td>0.000000</td>\n",
       "      <td>1.237299</td>\n",
       "    </tr>\n",
       "  </tbody>\n",
       "</table>\n",
       "</div>"
      ],
      "text/plain": [
       "   neighbourhood_group  neighbourhood  latitude  longitude        room_type  \\\n",
       "0                    2            129  40.75362  -73.98377  Entire home/apt   \n",
       "1                    1             41  40.68514  -73.95976  Entire home/apt   \n",
       "2                    1             13  40.68688  -73.95596     Private room   \n",
       "\n",
       "      price  minimum_nights  number_of_reviews  reviews_per_month  \\\n",
       "0  6.492356        0.900074           3.482156           0.265525   \n",
       "1  5.240736        0.000000           4.973062           0.839424   \n",
       "2  4.901923        1.910330           3.514008           0.265525   \n",
       "\n",
       "   calculated_host_listings_count  availability_365  \n",
       "0                        0.500726         11.781787  \n",
       "1                        0.000000          1.237299  \n",
       "2                        0.000000          1.237299  "
      ]
     },
     "execution_count": 99,
     "metadata": {},
     "output_type": "execute_result"
    }
   ],
   "source": [
    "data_new.head(3)"
   ]
  },
  {
   "cell_type": "code",
   "execution_count": 100,
   "metadata": {},
   "outputs": [],
   "source": [
    "data_new = pd.get_dummies(data_new)\n"
   ]
  },
  {
   "cell_type": "code",
   "execution_count": 102,
   "metadata": {},
   "outputs": [
    {
     "data": {
      "text/html": [
       "<div>\n",
       "<style scoped>\n",
       "    .dataframe tbody tr th:only-of-type {\n",
       "        vertical-align: middle;\n",
       "    }\n",
       "\n",
       "    .dataframe tbody tr th {\n",
       "        vertical-align: top;\n",
       "    }\n",
       "\n",
       "    .dataframe thead th {\n",
       "        text-align: right;\n",
       "    }\n",
       "</style>\n",
       "<table border=\"1\" class=\"dataframe\">\n",
       "  <thead>\n",
       "    <tr style=\"text-align: right;\">\n",
       "      <th></th>\n",
       "      <th>neighbourhood_group</th>\n",
       "      <th>neighbourhood</th>\n",
       "      <th>latitude</th>\n",
       "      <th>longitude</th>\n",
       "      <th>price</th>\n",
       "      <th>minimum_nights</th>\n",
       "      <th>number_of_reviews</th>\n",
       "      <th>reviews_per_month</th>\n",
       "      <th>calculated_host_listings_count</th>\n",
       "      <th>availability_365</th>\n",
       "      <th>room_type_Entire home/apt</th>\n",
       "      <th>room_type_Hotel room</th>\n",
       "      <th>room_type_Private room</th>\n",
       "      <th>room_type_Shared room</th>\n",
       "    </tr>\n",
       "  </thead>\n",
       "  <tbody>\n",
       "    <tr>\n",
       "      <th>0</th>\n",
       "      <td>2</td>\n",
       "      <td>129</td>\n",
       "      <td>40.75362</td>\n",
       "      <td>-73.98377</td>\n",
       "      <td>6.492356</td>\n",
       "      <td>0.900074</td>\n",
       "      <td>3.482156</td>\n",
       "      <td>0.265525</td>\n",
       "      <td>0.500726</td>\n",
       "      <td>11.781787</td>\n",
       "      <td>1</td>\n",
       "      <td>0</td>\n",
       "      <td>0</td>\n",
       "      <td>0</td>\n",
       "    </tr>\n",
       "    <tr>\n",
       "      <th>1</th>\n",
       "      <td>1</td>\n",
       "      <td>41</td>\n",
       "      <td>40.68514</td>\n",
       "      <td>-73.95976</td>\n",
       "      <td>5.240736</td>\n",
       "      <td>0.000000</td>\n",
       "      <td>4.973062</td>\n",
       "      <td>0.839424</td>\n",
       "      <td>0.000000</td>\n",
       "      <td>1.237299</td>\n",
       "      <td>1</td>\n",
       "      <td>0</td>\n",
       "      <td>0</td>\n",
       "      <td>0</td>\n",
       "    </tr>\n",
       "    <tr>\n",
       "      <th>2</th>\n",
       "      <td>1</td>\n",
       "      <td>13</td>\n",
       "      <td>40.68688</td>\n",
       "      <td>-73.95596</td>\n",
       "      <td>4.901923</td>\n",
       "      <td>1.910330</td>\n",
       "      <td>3.514008</td>\n",
       "      <td>0.265525</td>\n",
       "      <td>0.000000</td>\n",
       "      <td>1.237299</td>\n",
       "      <td>0</td>\n",
       "      <td>0</td>\n",
       "      <td>1</td>\n",
       "      <td>0</td>\n",
       "    </tr>\n",
       "    <tr>\n",
       "      <th>3</th>\n",
       "      <td>1</td>\n",
       "      <td>193</td>\n",
       "      <td>40.66120</td>\n",
       "      <td>-73.99423</td>\n",
       "      <td>6.492356</td>\n",
       "      <td>1.380291</td>\n",
       "      <td>0.679338</td>\n",
       "      <td>0.009902</td>\n",
       "      <td>0.000000</td>\n",
       "      <td>11.724015</td>\n",
       "      <td>1</td>\n",
       "      <td>0</td>\n",
       "      <td>0</td>\n",
       "      <td>0</td>\n",
       "    </tr>\n",
       "    <tr>\n",
       "      <th>4</th>\n",
       "      <td>2</td>\n",
       "      <td>97</td>\n",
       "      <td>40.76489</td>\n",
       "      <td>-73.98493</td>\n",
       "      <td>5.182527</td>\n",
       "      <td>0.610228</td>\n",
       "      <td>5.176675</td>\n",
       "      <td>0.782044</td>\n",
       "      <td>0.000000</td>\n",
       "      <td>11.635918</td>\n",
       "      <td>0</td>\n",
       "      <td>0</td>\n",
       "      <td>1</td>\n",
       "      <td>0</td>\n",
       "    </tr>\n",
       "  </tbody>\n",
       "</table>\n",
       "</div>"
      ],
      "text/plain": [
       "   neighbourhood_group  neighbourhood  latitude  longitude     price  \\\n",
       "0                    2            129  40.75362  -73.98377  6.492356   \n",
       "1                    1             41  40.68514  -73.95976  5.240736   \n",
       "2                    1             13  40.68688  -73.95596  4.901923   \n",
       "3                    1            193  40.66120  -73.99423  6.492356   \n",
       "4                    2             97  40.76489  -73.98493  5.182527   \n",
       "\n",
       "   minimum_nights  number_of_reviews  reviews_per_month  \\\n",
       "0        0.900074           3.482156           0.265525   \n",
       "1        0.000000           4.973062           0.839424   \n",
       "2        1.910330           3.514008           0.265525   \n",
       "3        1.380291           0.679338           0.009902   \n",
       "4        0.610228           5.176675           0.782044   \n",
       "\n",
       "   calculated_host_listings_count  availability_365  \\\n",
       "0                        0.500726         11.781787   \n",
       "1                        0.000000          1.237299   \n",
       "2                        0.000000          1.237299   \n",
       "3                        0.000000         11.724015   \n",
       "4                        0.000000         11.635918   \n",
       "\n",
       "   room_type_Entire home/apt  room_type_Hotel room  room_type_Private room  \\\n",
       "0                          1                     0                       0   \n",
       "1                          1                     0                       0   \n",
       "2                          0                     0                       1   \n",
       "3                          1                     0                       0   \n",
       "4                          0                     0                       1   \n",
       "\n",
       "   room_type_Shared room  \n",
       "0                      0  \n",
       "1                      0  \n",
       "2                      0  \n",
       "3                      0  \n",
       "4                      0  "
      ]
     },
     "execution_count": 102,
     "metadata": {},
     "output_type": "execute_result"
    }
   ],
   "source": [
    "data_new.head()\n"
   ]
  },
  {
   "cell_type": "code",
   "execution_count": 103,
   "metadata": {},
   "outputs": [],
   "source": [
    "target = data_new['price']\n"
   ]
  },
  {
   "cell_type": "code",
   "execution_count": 104,
   "metadata": {},
   "outputs": [],
   "source": [
    "data_new.drop('price', axis=1, inplace=True)\n"
   ]
  },
  {
   "cell_type": "code",
   "execution_count": 105,
   "metadata": {},
   "outputs": [],
   "source": [
    "X_train, X_test, y_train, y_test = train_test_split(data_new, target, test_size = .2, random_state=42)"
   ]
  },
  {
   "cell_type": "code",
   "execution_count": 106,
   "metadata": {},
   "outputs": [
    {
     "data": {
      "text/html": [
       "<div>\n",
       "<style scoped>\n",
       "    .dataframe tbody tr th:only-of-type {\n",
       "        vertical-align: middle;\n",
       "    }\n",
       "\n",
       "    .dataframe tbody tr th {\n",
       "        vertical-align: top;\n",
       "    }\n",
       "\n",
       "    .dataframe thead th {\n",
       "        text-align: right;\n",
       "    }\n",
       "</style>\n",
       "<table border=\"1\" class=\"dataframe\">\n",
       "  <thead>\n",
       "    <tr style=\"text-align: right;\">\n",
       "      <th></th>\n",
       "      <th>neighbourhood_group</th>\n",
       "      <th>neighbourhood</th>\n",
       "      <th>latitude</th>\n",
       "      <th>longitude</th>\n",
       "      <th>minimum_nights</th>\n",
       "      <th>number_of_reviews</th>\n",
       "      <th>reviews_per_month</th>\n",
       "      <th>calculated_host_listings_count</th>\n",
       "      <th>availability_365</th>\n",
       "      <th>room_type_Entire home/apt</th>\n",
       "      <th>room_type_Hotel room</th>\n",
       "      <th>room_type_Private room</th>\n",
       "      <th>room_type_Shared room</th>\n",
       "    </tr>\n",
       "  </thead>\n",
       "  <tbody>\n",
       "    <tr>\n",
       "      <th>159260</th>\n",
       "      <td>2</td>\n",
       "      <td>181</td>\n",
       "      <td>40.71972</td>\n",
       "      <td>-73.99986</td>\n",
       "      <td>0.610228</td>\n",
       "      <td>4.277674</td>\n",
       "      <td>0.680855</td>\n",
       "      <td>0.500726</td>\n",
       "      <td>9.441539</td>\n",
       "      <td>0</td>\n",
       "      <td>0</td>\n",
       "      <td>1</td>\n",
       "      <td>0</td>\n",
       "    </tr>\n",
       "    <tr>\n",
       "      <th>79798</th>\n",
       "      <td>1</td>\n",
       "      <td>52</td>\n",
       "      <td>40.67892</td>\n",
       "      <td>-73.96334</td>\n",
       "      <td>1.919834</td>\n",
       "      <td>3.256397</td>\n",
       "      <td>0.291780</td>\n",
       "      <td>0.000000</td>\n",
       "      <td>11.714312</td>\n",
       "      <td>1</td>\n",
       "      <td>0</td>\n",
       "      <td>0</td>\n",
       "      <td>0</td>\n",
       "    </tr>\n",
       "    <tr>\n",
       "      <th>211302</th>\n",
       "      <td>1</td>\n",
       "      <td>61</td>\n",
       "      <td>40.66097</td>\n",
       "      <td>-73.93190</td>\n",
       "      <td>1.080524</td>\n",
       "      <td>3.085421</td>\n",
       "      <td>0.594947</td>\n",
       "      <td>0.500726</td>\n",
       "      <td>7.263174</td>\n",
       "      <td>1</td>\n",
       "      <td>0</td>\n",
       "      <td>0</td>\n",
       "      <td>0</td>\n",
       "    </tr>\n",
       "    <tr>\n",
       "      <th>202414</th>\n",
       "      <td>1</td>\n",
       "      <td>217</td>\n",
       "      <td>40.72022</td>\n",
       "      <td>-73.95727</td>\n",
       "      <td>1.540957</td>\n",
       "      <td>1.701413</td>\n",
       "      <td>0.107269</td>\n",
       "      <td>0.000000</td>\n",
       "      <td>7.941353</td>\n",
       "      <td>1</td>\n",
       "      <td>0</td>\n",
       "      <td>0</td>\n",
       "      <td>0</td>\n",
       "    </tr>\n",
       "    <tr>\n",
       "      <th>113044</th>\n",
       "      <td>2</td>\n",
       "      <td>96</td>\n",
       "      <td>40.82065</td>\n",
       "      <td>-73.95390</td>\n",
       "      <td>1.380291</td>\n",
       "      <td>2.828705</td>\n",
       "      <td>0.206835</td>\n",
       "      <td>0.000000</td>\n",
       "      <td>11.781787</td>\n",
       "      <td>0</td>\n",
       "      <td>0</td>\n",
       "      <td>1</td>\n",
       "      <td>0</td>\n",
       "    </tr>\n",
       "  </tbody>\n",
       "</table>\n",
       "</div>"
      ],
      "text/plain": [
       "        neighbourhood_group  neighbourhood  latitude  longitude  \\\n",
       "159260                    2            181  40.71972  -73.99986   \n",
       "79798                     1             52  40.67892  -73.96334   \n",
       "211302                    1             61  40.66097  -73.93190   \n",
       "202414                    1            217  40.72022  -73.95727   \n",
       "113044                    2             96  40.82065  -73.95390   \n",
       "\n",
       "        minimum_nights  number_of_reviews  reviews_per_month  \\\n",
       "159260        0.610228           4.277674           0.680855   \n",
       "79798         1.919834           3.256397           0.291780   \n",
       "211302        1.080524           3.085421           0.594947   \n",
       "202414        1.540957           1.701413           0.107269   \n",
       "113044        1.380291           2.828705           0.206835   \n",
       "\n",
       "        calculated_host_listings_count  availability_365  \\\n",
       "159260                        0.500726          9.441539   \n",
       "79798                         0.000000         11.714312   \n",
       "211302                        0.500726          7.263174   \n",
       "202414                        0.000000          7.941353   \n",
       "113044                        0.000000         11.781787   \n",
       "\n",
       "        room_type_Entire home/apt  room_type_Hotel room  \\\n",
       "159260                          0                     0   \n",
       "79798                           1                     0   \n",
       "211302                          1                     0   \n",
       "202414                          1                     0   \n",
       "113044                          0                     0   \n",
       "\n",
       "        room_type_Private room  room_type_Shared room  \n",
       "159260                       1                      0  \n",
       "79798                        0                      0  \n",
       "211302                       0                      0  \n",
       "202414                       0                      0  \n",
       "113044                       1                      0  "
      ]
     },
     "execution_count": 106,
     "metadata": {},
     "output_type": "execute_result"
    }
   ],
   "source": [
    "X_train.head()"
   ]
  },
  {
   "cell_type": "code",
   "execution_count": 107,
   "metadata": {},
   "outputs": [
    {
     "data": {
      "text/plain": [
       "159260    6.093319\n",
       "79798     6.343892\n",
       "211302    5.202169\n",
       "202414    7.237969\n",
       "113044    5.403549\n",
       "            ...   \n",
       "259178    4.498719\n",
       "365838    5.642763\n",
       "131932    4.700120\n",
       "146867    3.537693\n",
       "121958    5.470899\n",
       "Name: price, Length: 334640, dtype: float64"
      ]
     },
     "execution_count": 107,
     "metadata": {},
     "output_type": "execute_result"
    }
   ],
   "source": [
    "y_train"
   ]
  },
  {
   "cell_type": "code",
   "execution_count": 108,
   "metadata": {},
   "outputs": [],
   "source": [
    "from sklearn.preprocessing import StandardScaler\n",
    "sc = StandardScaler()\n",
    "X_train = sc.fit_transform(X_train)"
   ]
  },
  {
   "cell_type": "code",
   "execution_count": 110,
   "metadata": {},
   "outputs": [
    {
     "data": {
      "text/plain": [
       "array([[ 0.39345663,  1.0642371 , -0.15722468, ..., -0.08910479,\n",
       "         1.07384051, -0.15368995],\n",
       "       [-0.89278696, -0.78932093, -0.88150934, ..., -0.08910479,\n",
       "        -0.93123698, -0.15368995],\n",
       "       [-0.89278696, -0.66000293, -1.20015908, ..., -0.08910479,\n",
       "        -0.93123698, -0.15368995],\n",
       "       ...,\n",
       "       [-0.89278696, -1.13416893, -0.44321061, ..., -0.08910479,\n",
       "         1.07384051, -0.15368995],\n",
       "       [-0.89278696, -0.78932093, -0.99654279, ..., -0.08910479,\n",
       "         1.07384051, -0.15368995],\n",
       "       [-0.89278696, -1.20601227, -2.65689435, ..., -0.08910479,\n",
       "        -0.93123698, -0.15368995]])"
      ]
     },
     "execution_count": 110,
     "metadata": {},
     "output_type": "execute_result"
    }
   ],
   "source": [
    "X_train"
   ]
  },
  {
   "cell_type": "code",
   "execution_count": 116,
   "metadata": {},
   "outputs": [],
   "source": [
    "# Add a 1 column to the start to allow vectorized gradient descent\n",
    "X_train = np.c_[np.ones(X_train.shape[0]), X_train] "
   ]
  },
  {
   "cell_type": "code",
   "execution_count": 118,
   "metadata": {},
   "outputs": [
    {
     "data": {
      "text/plain": [
       "array([[ 1.        ,  0.39345663,  1.0642371 , ..., -0.08910479,\n",
       "         1.07384051, -0.15368995],\n",
       "       [ 1.        , -0.89278696, -0.78932093, ..., -0.08910479,\n",
       "        -0.93123698, -0.15368995],\n",
       "       [ 1.        , -0.89278696, -0.66000293, ..., -0.08910479,\n",
       "        -0.93123698, -0.15368995],\n",
       "       ...,\n",
       "       [ 1.        , -0.89278696, -1.13416893, ..., -0.08910479,\n",
       "         1.07384051, -0.15368995],\n",
       "       [ 1.        , -0.89278696, -0.78932093, ..., -0.08910479,\n",
       "         1.07384051, -0.15368995],\n",
       "       [ 1.        , -0.89278696, -1.20601227, ..., -0.08910479,\n",
       "        -0.93123698, -0.15368995]])"
      ]
     },
     "execution_count": 118,
     "metadata": {},
     "output_type": "execute_result"
    }
   ],
   "source": [
    "X_train"
   ]
  },
  {
   "cell_type": "code",
   "execution_count": 120,
   "metadata": {},
   "outputs": [],
   "source": [
    "# Set hyperparameters\n",
    "alpha = 0.01\n",
    "iterations = 1000"
   ]
  },
  {
   "cell_type": "code",
   "execution_count": 122,
   "metadata": {},
   "outputs": [],
   "source": [
    "def cost_function(X, y, theta):\n",
    "    m = y.size\n",
    "    error = np.dot(X, theta.T) - y\n",
    "    cost = 1/(2*m) * np.dot(error.T, error)\n",
    "    return cost, error"
   ]
  },
  {
   "cell_type": "code",
   "execution_count": 123,
   "metadata": {},
   "outputs": [],
   "source": [
    "def gradient_descent(X, y, theta, alpha, iters):\n",
    "    cost_array = np.zeros(iters)\n",
    "    m = y.size\n",
    "    for i in range(iters):\n",
    "        cost, error = cost_function(X, y, theta)\n",
    "        theta = theta - (alpha * (1/m) * np.dot(X.T, error))\n",
    "        cost_array[i] = cost\n",
    "    return theta, cost_array"
   ]
  },
  {
   "cell_type": "code",
   "execution_count": 124,
   "metadata": {},
   "outputs": [],
   "source": [
    "def plotChart(iterations, cost_num):\n",
    "    fig, ax = plt.subplots()\n",
    "    ax.plot(np.arange(iterations), cost_num, 'r')\n",
    "    ax.set_xlabel('Iterations')\n",
    "    ax.set_ylabel('Cost')\n",
    "    ax.set_title('Error vs Iterations')\n",
    "    plt.style.use('fivethirtyeight')\n",
    "    plt.show()"
   ]
  },
  {
   "cell_type": "code",
   "execution_count": 126,
   "metadata": {},
   "outputs": [],
   "source": [
    " # Initialize Theta Values to 0\n",
    "theta = np.zeros(X_train.shape[1])\n",
    "initial_cost, _ = cost_function(X_train, y_train, theta)"
   ]
  },
  {
   "cell_type": "code",
   "execution_count": 127,
   "metadata": {},
   "outputs": [
    {
     "name": "stdout",
     "output_type": "stream",
     "text": [
      "With initial theta values of [0. 0. 0. 0. 0. 0. 0. 0. 0. 0. 0. 0. 0. 0.], cost error is 16.25832157208216\n"
     ]
    }
   ],
   "source": [
    "print('With initial theta values of {0}, cost error is {1}'.format(theta, initial_cost))\n"
   ]
  },
  {
   "cell_type": "code",
   "execution_count": 128,
   "metadata": {},
   "outputs": [],
   "source": [
    "theta, cost_num = gradient_descent(X_train, y_train, theta, alpha, iterations)\n"
   ]
  },
  {
   "cell_type": "code",
   "execution_count": 129,
   "metadata": {},
   "outputs": [
    {
     "data": {
      "image/png": "[encoded data removed]",
      "text/plain": [
       "<Figure size 432x288 with 1 Axes>"
      ]
     },
     "metadata": {
      "needs_background": "light"
     },
     "output_type": "display_data"
    }
   ],
   "source": [
    "plotChart(iterations, cost_num)"
   ]
  },
  {
   "cell_type": "code",
   "execution_count": 130,
   "metadata": {},
   "outputs": [],
   "source": [
    "final_cost, _ = cost_function(X_train, y_train, theta)\n"
   ]
  },
  {
   "cell_type": "code",
   "execution_count": 131,
   "metadata": {},
   "outputs": [
    {
     "name": "stdout",
     "output_type": "stream",
     "text": [
      "With final theta values of [ 5.63594509  0.03001383  0.03870463  0.05791201 -0.1838401  -0.09394513\n",
      "  0.00967508 -0.04557404 -0.03906145  0.07625817  0.28620996  0.0392841\n",
      " -0.24695458 -0.15589837], cost error is 0.1892037240847851\n"
     ]
    }
   ],
   "source": [
    "print('With final theta values of {0}, cost error is {1}'.format(theta, final_cost))"
   ]
  },
  {
   "cell_type": "markdown",
   "metadata": {},
   "source": [
    "# Gradient Boosting"
   ]
  },
  {
   "cell_type": "code",
   "execution_count": 132,
   "metadata": {},
   "outputs": [],
   "source": [
    "X_train, X_test, y_train, y_test = train_test_split(data_new, target, test_size = .2, random_state=100)"
   ]
  },
  {
   "cell_type": "code",
   "execution_count": 133,
   "metadata": {},
   "outputs": [],
   "source": [
    "from numpy import mean\n",
    "from numpy import std\n",
    "from sklearn.datasets import make_regression\n",
    "from sklearn.model_selection import cross_val_score\n",
    "from sklearn.model_selection import RepeatedKFold\n",
    "from sklearn.ensemble import GradientBoostingRegressor"
   ]
  },
  {
   "cell_type": "code",
   "execution_count": 134,
   "metadata": {},
   "outputs": [
    {
     "data": {
      "text/html": [
       "<div>\n",
       "<style scoped>\n",
       "    .dataframe tbody tr th:only-of-type {\n",
       "        vertical-align: middle;\n",
       "    }\n",
       "\n",
       "    .dataframe tbody tr th {\n",
       "        vertical-align: top;\n",
       "    }\n",
       "\n",
       "    .dataframe thead th {\n",
       "        text-align: right;\n",
       "    }\n",
       "</style>\n",
       "<table border=\"1\" class=\"dataframe\">\n",
       "  <thead>\n",
       "    <tr style=\"text-align: right;\">\n",
       "      <th></th>\n",
       "      <th>neighbourhood_group</th>\n",
       "      <th>neighbourhood</th>\n",
       "      <th>latitude</th>\n",
       "      <th>longitude</th>\n",
       "      <th>minimum_nights</th>\n",
       "      <th>number_of_reviews</th>\n",
       "      <th>reviews_per_month</th>\n",
       "      <th>calculated_host_listings_count</th>\n",
       "      <th>availability_365</th>\n",
       "      <th>room_type_Entire home/apt</th>\n",
       "      <th>room_type_Hotel room</th>\n",
       "      <th>room_type_Private room</th>\n",
       "      <th>room_type_Shared room</th>\n",
       "    </tr>\n",
       "  </thead>\n",
       "  <tbody>\n",
       "    <tr>\n",
       "      <th>278363</th>\n",
       "      <td>2</td>\n",
       "      <td>209</td>\n",
       "      <td>40.84695</td>\n",
       "      <td>-73.93593</td>\n",
       "      <td>0.000000</td>\n",
       "      <td>3.396090</td>\n",
       "      <td>0.643433</td>\n",
       "      <td>0.000000</td>\n",
       "      <td>0.000000</td>\n",
       "      <td>0</td>\n",
       "      <td>0</td>\n",
       "      <td>1</td>\n",
       "      <td>0</td>\n",
       "    </tr>\n",
       "    <tr>\n",
       "      <th>349084</th>\n",
       "      <td>1</td>\n",
       "      <td>13</td>\n",
       "      <td>40.68402</td>\n",
       "      <td>-73.94240</td>\n",
       "      <td>0.000000</td>\n",
       "      <td>0.679338</td>\n",
       "      <td>0.056638</td>\n",
       "      <td>0.500726</td>\n",
       "      <td>9.424622</td>\n",
       "      <td>0</td>\n",
       "      <td>0</td>\n",
       "      <td>1</td>\n",
       "      <td>0</td>\n",
       "    </tr>\n",
       "    <tr>\n",
       "      <th>371674</th>\n",
       "      <td>1</td>\n",
       "      <td>217</td>\n",
       "      <td>40.71759</td>\n",
       "      <td>-73.96641</td>\n",
       "      <td>1.080524</td>\n",
       "      <td>2.313414</td>\n",
       "      <td>0.231383</td>\n",
       "      <td>0.000000</td>\n",
       "      <td>0.000000</td>\n",
       "      <td>1</td>\n",
       "      <td>0</td>\n",
       "      <td>0</td>\n",
       "      <td>0</td>\n",
       "    </tr>\n",
       "    <tr>\n",
       "      <th>293349</th>\n",
       "      <td>2</td>\n",
       "      <td>96</td>\n",
       "      <td>40.81732</td>\n",
       "      <td>-73.95328</td>\n",
       "      <td>0.000000</td>\n",
       "      <td>1.536288</td>\n",
       "      <td>0.470898</td>\n",
       "      <td>0.000000</td>\n",
       "      <td>7.386332</td>\n",
       "      <td>0</td>\n",
       "      <td>0</td>\n",
       "      <td>1</td>\n",
       "      <td>0</td>\n",
       "    </tr>\n",
       "    <tr>\n",
       "      <th>372527</th>\n",
       "      <td>1</td>\n",
       "      <td>61</td>\n",
       "      <td>40.63682</td>\n",
       "      <td>-73.94947</td>\n",
       "      <td>0.000000</td>\n",
       "      <td>2.789799</td>\n",
       "      <td>0.575240</td>\n",
       "      <td>0.000000</td>\n",
       "      <td>0.000000</td>\n",
       "      <td>1</td>\n",
       "      <td>0</td>\n",
       "      <td>0</td>\n",
       "      <td>0</td>\n",
       "    </tr>\n",
       "  </tbody>\n",
       "</table>\n",
       "</div>"
      ],
      "text/plain": [
       "        neighbourhood_group  neighbourhood  latitude  longitude  \\\n",
       "278363                    2            209  40.84695  -73.93593   \n",
       "349084                    1             13  40.68402  -73.94240   \n",
       "371674                    1            217  40.71759  -73.96641   \n",
       "293349                    2             96  40.81732  -73.95328   \n",
       "372527                    1             61  40.63682  -73.94947   \n",
       "\n",
       "        minimum_nights  number_of_reviews  reviews_per_month  \\\n",
       "278363        0.000000           3.396090           0.643433   \n",
       "349084        0.000000           0.679338           0.056638   \n",
       "371674        1.080524           2.313414           0.231383   \n",
       "293349        0.000000           1.536288           0.470898   \n",
       "372527        0.000000           2.789799           0.575240   \n",
       "\n",
       "        calculated_host_listings_count  availability_365  \\\n",
       "278363                        0.000000          0.000000   \n",
       "349084                        0.500726          9.424622   \n",
       "371674                        0.000000          0.000000   \n",
       "293349                        0.000000          7.386332   \n",
       "372527                        0.000000          0.000000   \n",
       "\n",
       "        room_type_Entire home/apt  room_type_Hotel room  \\\n",
       "278363                          0                     0   \n",
       "349084                          0                     0   \n",
       "371674                          1                     0   \n",
       "293349                          0                     0   \n",
       "372527                          1                     0   \n",
       "\n",
       "        room_type_Private room  room_type_Shared room  \n",
       "278363                       1                      0  \n",
       "349084                       1                      0  \n",
       "371674                       0                      0  \n",
       "293349                       1                      0  \n",
       "372527                       0                      0  "
      ]
     },
     "execution_count": 134,
     "metadata": {},
     "output_type": "execute_result"
    }
   ],
   "source": [
    "X_train.head()"
   ]
  },
  {
   "cell_type": "code",
   "execution_count": 135,
   "metadata": {},
   "outputs": [],
   "source": [
    "from sklearn.preprocessing import StandardScaler\n",
    "sc = StandardScaler()\n",
    "X_train = sc.fit_transform(X_train)"
   ]
  },
  {
   "cell_type": "code",
   "execution_count": 136,
   "metadata": {},
   "outputs": [],
   "source": [
    "model = GradientBoostingRegressor()"
   ]
  },
  {
   "cell_type": "code",
   "execution_count": 137,
   "metadata": {},
   "outputs": [],
   "source": [
    "cv = RepeatedKFold(n_splits=10, n_repeats=3, random_state=1)\n"
   ]
  },
  {
   "cell_type": "code",
   "execution_count": 138,
   "metadata": {},
   "outputs": [],
   "source": [
    "n_scores = cross_val_score(model, X_train, y_train, scoring='neg_mean_absolute_error', cv=cv, n_jobs=-1)\n"
   ]
  },
  {
   "cell_type": "code",
   "execution_count": 139,
   "metadata": {},
   "outputs": [
    {
     "data": {
      "text/plain": [
       "array([-0.43183119, -0.43071417, -0.42891404, -0.42835709, -0.4298303 ,\n",
       "       -0.43301233, -0.43255539, -0.42838436, -0.4254162 , -0.42836757,\n",
       "       -0.42877492, -0.43112593, -0.4272471 , -0.4265812 , -0.43026676,\n",
       "       -0.42893717, -0.42836967, -0.43180646, -0.43256671, -0.43056164,\n",
       "       -0.4322029 , -0.42833677, -0.43043107, -0.42652516, -0.42986819,\n",
       "       -0.42992371, -0.42853001, -0.43228318, -0.43002562, -0.42969848])"
      ]
     },
     "execution_count": 139,
     "metadata": {},
     "output_type": "execute_result"
    }
   ],
   "source": [
    "n_scores"
   ]
  },
  {
   "cell_type": "code",
   "execution_count": 140,
   "metadata": {},
   "outputs": [
    {
     "name": "stdout",
     "output_type": "stream",
     "text": [
      "MAE: -0.430 (0.002)\n"
     ]
    }
   ],
   "source": [
    "print('MAE: %.3f (%.3f)' % (mean(n_scores), std(n_scores)))"
   ]
  },
  {
   "cell_type": "code",
   "execution_count": 144,
   "metadata": {},
   "outputs": [],
   "source": [
    "row = [ 0.39105204,  1.4673069 ,  2.10045507,  0.23300918, -1.35014252,\n",
    "        0.94079499,  1.02778112, -0.7818079 , -1.32591596, -1.00866773,\n",
    "       -0.08893427,  1.07400179, -0.15503939]"
   ]
  },
  {
   "cell_type": "code",
   "execution_count": 156,
   "metadata": {},
   "outputs": [],
   "source": [
    "row_2 = [-0.89469112,  1.58226505, -0.19585709, -0.37207847,  0.25490224,\n",
    "        0.15710692, -0.4607506 , -0.7818079 , -1.32591596,  0.99140675,\n",
    "       -0.08893427, -0.93109715, -0.15503939]"
   ]
  },
  {
   "cell_type": "code",
   "execution_count": 146,
   "metadata": {},
   "outputs": [
    {
     "data": {
      "text/plain": [
       "GradientBoostingRegressor()"
      ]
     },
     "execution_count": 146,
     "metadata": {},
     "output_type": "execute_result"
    }
   ],
   "source": [
    "model.fit(X_train, y_train)\n"
   ]
  },
  {
   "cell_type": "code",
   "execution_count": 157,
   "metadata": {},
   "outputs": [],
   "source": [
    "yhat = model.predict([row_2])\n"
   ]
  },
  {
   "cell_type": "code",
   "execution_count": 158,
   "metadata": {},
   "outputs": [
    {
     "data": {
      "text/plain": [
       "array([6.44783089])"
      ]
     },
     "execution_count": 158,
     "metadata": {},
     "output_type": "execute_result"
    }
   ],
   "source": [
    "yhat"
   ]
  },
  {
   "cell_type": "code",
   "execution_count": 154,
   "metadata": {},
   "outputs": [
    {
     "data": {
      "text/plain": [
       "array([-0.89469112,  1.58226505, -0.19585709, -0.37207847,  0.25490224,\n",
       "        0.15710692, -0.4607506 , -0.7818079 , -1.32591596,  0.99140675,\n",
       "       -0.08893427, -0.93109715, -0.15503939])"
      ]
     },
     "execution_count": 154,
     "metadata": {},
     "output_type": "execute_result"
    }
   ],
   "source": [
    "X_train[2]"
   ]
  },
  {
   "cell_type": "code",
   "execution_count": 155,
   "metadata": {},
   "outputs": [
    {
     "data": {
      "text/plain": [
       "4.901923405711247"
      ]
     },
     "execution_count": 155,
     "metadata": {},
     "output_type": "execute_result"
    }
   ],
   "source": [
    "y_train[2]"
   ]
  },
  {
   "cell_type": "code",
   "execution_count": 160,
   "metadata": {},
   "outputs": [],
   "source": [
    "y_pred=model.predict(X_test)\n"
   ]
  },
  {
   "cell_type": "code",
   "execution_count": 161,
   "metadata": {},
   "outputs": [
    {
     "data": {
      "text/plain": [
       "array([6.16637241, 6.20439986, 6.20439986, ..., 6.20439986, 5.96032448,\n",
       "       6.16784302])"
      ]
     },
     "execution_count": 161,
     "metadata": {},
     "output_type": "execute_result"
    }
   ],
   "source": [
    "y_pred"
   ]
  },
  {
   "cell_type": "code",
   "execution_count": 162,
   "metadata": {},
   "outputs": [
    {
     "data": {
      "text/plain": [
       "76808     4.617042\n",
       "78317     6.254260\n",
       "79555     4.336478\n",
       "305058    6.701153\n",
       "388501    5.101415\n",
       "            ...   \n",
       "133574    5.566905\n",
       "200547    6.353562\n",
       "104547    5.642763\n",
       "103760    4.778924\n",
       "163327    6.536207\n",
       "Name: price, Length: 83661, dtype: float64"
      ]
     },
     "execution_count": 162,
     "metadata": {},
     "output_type": "execute_result"
    }
   ],
   "source": [
    "y_test"
   ]
  },
  {
   "cell_type": "code",
   "execution_count": 163,
   "metadata": {},
   "outputs": [
    {
     "name": "stdout",
     "output_type": "stream",
     "text": [
      "[0.         0.0043671  0.07585343 0.1309803  0.02494838 0.00105016\n",
      " 0.00378302 0.02300165 0.01658703 0.69300805 0.01162501 0.00129733\n",
      " 0.01349854]\n"
     ]
    }
   ],
   "source": [
    "print (model.feature_importances_)"
   ]
  },
  {
   "cell_type": "code",
   "execution_count": 165,
   "metadata": {},
   "outputs": [],
   "source": [
    "#Let's go instantiate, fit and predict. \n",
    "gbrt=GradientBoostingRegressor(n_estimators=100) \n",
    "gbrt.fit(X_train, y_train) \n",
    "y_pred=gbrt.predict(X_test) "
   ]
  },
  {
   "cell_type": "code",
   "execution_count": 166,
   "metadata": {},
   "outputs": [
    {
     "name": "stdout",
     "output_type": "stream",
     "text": [
      "R-squared for Train: 0.59\n",
      "R-squared for Test: -1.02\n"
     ]
    }
   ],
   "source": [
    "print (\"R-squared for Train: %.2f\" %gbrt.score(X_train, y_train) )\n",
    "print (\"R-squared for Test: %.2f\" %gbrt.score(X_test, y_test) )"
   ]
  },
  {
   "cell_type": "code",
   "execution_count": null,
   "metadata": {},
   "outputs": [],
   "source": []
  },
  {
   "cell_type": "code",
   "execution_count": null,
   "metadata": {},
   "outputs": [],
   "source": []
  },
  {
   "cell_type": "code",
   "execution_count": null,
   "metadata": {},
   "outputs": [],
   "source": []
  },
  {
   "cell_type": "code",
   "execution_count": null,
   "metadata": {},
   "outputs": [],
   "source": []
  },
  {
   "cell_type": "code",
   "execution_count": null,
   "metadata": {},
   "outputs": [],
   "source": []
  }
 ],
 "metadata": {
  "kernelspec": {
   "display_name": "Python 3",
   "language": "python",
   "name": "python3"
  },
  "language_info": {
   "codemirror_mode": {
    "name": "ipython",
    "version": 3
   },
   "file_extension": ".py",
   "mimetype": "text/x-python",
   "name": "python",
   "nbconvert_exporter": "python",
   "pygments_lexer": "ipython3",
   "version": "3.7.6"
  }
 },
 "nbformat": 4,
 "nbformat_minor": 4
}
