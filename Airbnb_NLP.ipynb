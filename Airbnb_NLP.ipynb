{
 "cells": [
  {
   "cell_type": "raw",
   "metadata": {},
   "source": [
    "Preprocessing\n",
    "\n",
    "Most frequent words\n",
    "\n",
    "Most frequent bigrams\n",
    "\n",
    "Most frequent trigrams\n",
    "\n",
    "But what about a price?\n",
    "\n",
    "Most frequent wordings for expensive places\n",
    "\n",
    "ML model\n",
    "\n",
    "Interpreting ML predictions\n",
    "\n",
    "Wrapping up"
   ]
  },
  {
   "cell_type": "code",
   "execution_count": 1,
   "metadata": {},
   "outputs": [],
   "source": [
    "import pandas as pd\n",
    "import os\n",
    "import numpy as np\n",
    "from glob import glob"
   ]
  },
  {
   "cell_type": "code",
   "execution_count": 2,
   "metadata": {},
   "outputs": [],
   "source": [
    "files = glob('listings_*')"
   ]
  },
  {
   "cell_type": "code",
   "execution_count": 3,
   "metadata": {},
   "outputs": [
    {
     "data": {
      "text/plain": [
       "['listings_1.csv',\n",
       " 'listings_10.csv',\n",
       " 'listings_11.csv',\n",
       " 'listings_12.csv',\n",
       " 'listings_2.csv',\n",
       " 'listings_3.csv',\n",
       " 'listings_4.csv',\n",
       " 'listings_5.csv',\n",
       " 'listings_6.csv',\n",
       " 'listings_7.csv',\n",
       " 'listings_8.csv',\n",
       " 'listings_9.csv']"
      ]
     },
     "execution_count": 3,
     "metadata": {},
     "output_type": "execute_result"
    }
   ],
   "source": [
    "files.sort()\n",
    "files"
   ]
  },
  {
   "cell_type": "code",
   "execution_count": 4,
   "metadata": {},
   "outputs": [
    {
     "data": {
      "text/html": [
       "<div>\n",
       "<style scoped>\n",
       "    .dataframe tbody tr th:only-of-type {\n",
       "        vertical-align: middle;\n",
       "    }\n",
       "\n",
       "    .dataframe tbody tr th {\n",
       "        vertical-align: top;\n",
       "    }\n",
       "\n",
       "    .dataframe thead th {\n",
       "        text-align: right;\n",
       "    }\n",
       "</style>\n",
       "<table border=\"1\" class=\"dataframe\">\n",
       "  <thead>\n",
       "    <tr style=\"text-align: right;\">\n",
       "      <th></th>\n",
       "      <th>id</th>\n",
       "      <th>name</th>\n",
       "      <th>host_id</th>\n",
       "      <th>host_name</th>\n",
       "      <th>neighbourhood_group</th>\n",
       "      <th>neighbourhood</th>\n",
       "      <th>latitude</th>\n",
       "      <th>longitude</th>\n",
       "      <th>room_type</th>\n",
       "      <th>price</th>\n",
       "      <th>minimum_nights</th>\n",
       "      <th>number_of_reviews</th>\n",
       "      <th>last_review</th>\n",
       "      <th>reviews_per_month</th>\n",
       "      <th>calculated_host_listings_count</th>\n",
       "      <th>availability_365</th>\n",
       "    </tr>\n",
       "  </thead>\n",
       "  <tbody>\n",
       "    <tr>\n",
       "      <th>0</th>\n",
       "      <td>2595</td>\n",
       "      <td>Skylit Midtown Castle</td>\n",
       "      <td>2845</td>\n",
       "      <td>Jennifer</td>\n",
       "      <td>Manhattan</td>\n",
       "      <td>Midtown</td>\n",
       "      <td>40.75362</td>\n",
       "      <td>-73.98377</td>\n",
       "      <td>Entire home/apt</td>\n",
       "      <td>225</td>\n",
       "      <td>7</td>\n",
       "      <td>48</td>\n",
       "      <td>2019-11-04</td>\n",
       "      <td>0.39</td>\n",
       "      <td>2</td>\n",
       "      <td>365</td>\n",
       "    </tr>\n",
       "    <tr>\n",
       "      <th>1</th>\n",
       "      <td>3831</td>\n",
       "      <td>Cozy Entire Floor of Brownstone</td>\n",
       "      <td>4869</td>\n",
       "      <td>LisaRoxanne</td>\n",
       "      <td>Brooklyn</td>\n",
       "      <td>Clinton Hill</td>\n",
       "      <td>40.68514</td>\n",
       "      <td>-73.95976</td>\n",
       "      <td>Entire home/apt</td>\n",
       "      <td>89</td>\n",
       "      <td>1</td>\n",
       "      <td>298</td>\n",
       "      <td>2019-11-27</td>\n",
       "      <td>4.65</td>\n",
       "      <td>1</td>\n",
       "      <td>161</td>\n",
       "    </tr>\n",
       "    <tr>\n",
       "      <th>2</th>\n",
       "      <td>5099</td>\n",
       "      <td>Large Cozy 1 BR Apartment In Midtown East</td>\n",
       "      <td>7322</td>\n",
       "      <td>Chris</td>\n",
       "      <td>Manhattan</td>\n",
       "      <td>Murray Hill</td>\n",
       "      <td>40.74767</td>\n",
       "      <td>-73.97500</td>\n",
       "      <td>Entire home/apt</td>\n",
       "      <td>200</td>\n",
       "      <td>3</td>\n",
       "      <td>78</td>\n",
       "      <td>2019-10-13</td>\n",
       "      <td>0.60</td>\n",
       "      <td>1</td>\n",
       "      <td>0</td>\n",
       "    </tr>\n",
       "    <tr>\n",
       "      <th>3</th>\n",
       "      <td>5121</td>\n",
       "      <td>BlissArtsSpace!</td>\n",
       "      <td>7356</td>\n",
       "      <td>Garon</td>\n",
       "      <td>Brooklyn</td>\n",
       "      <td>Bedford-Stuyvesant</td>\n",
       "      <td>40.68688</td>\n",
       "      <td>-73.95596</td>\n",
       "      <td>Private room</td>\n",
       "      <td>60</td>\n",
       "      <td>29</td>\n",
       "      <td>50</td>\n",
       "      <td>2019-12-02</td>\n",
       "      <td>0.39</td>\n",
       "      <td>1</td>\n",
       "      <td>0</td>\n",
       "    </tr>\n",
       "    <tr>\n",
       "      <th>4</th>\n",
       "      <td>5178</td>\n",
       "      <td>Large Furnished Room Near B'way</td>\n",
       "      <td>8967</td>\n",
       "      <td>Shunichi</td>\n",
       "      <td>Manhattan</td>\n",
       "      <td>Hell's Kitchen</td>\n",
       "      <td>40.76489</td>\n",
       "      <td>-73.98493</td>\n",
       "      <td>Private room</td>\n",
       "      <td>79</td>\n",
       "      <td>2</td>\n",
       "      <td>459</td>\n",
       "      <td>2019-12-12</td>\n",
       "      <td>3.53</td>\n",
       "      <td>1</td>\n",
       "      <td>233</td>\n",
       "    </tr>\n",
       "  </tbody>\n",
       "</table>\n",
       "</div>"
      ],
      "text/plain": [
       "     id                                       name  host_id    host_name  \\\n",
       "0  2595                      Skylit Midtown Castle     2845     Jennifer   \n",
       "1  3831            Cozy Entire Floor of Brownstone     4869  LisaRoxanne   \n",
       "2  5099  Large Cozy 1 BR Apartment In Midtown East     7322        Chris   \n",
       "3  5121                            BlissArtsSpace!     7356        Garon   \n",
       "4  5178           Large Furnished Room Near B'way      8967     Shunichi   \n",
       "\n",
       "  neighbourhood_group       neighbourhood  latitude  longitude  \\\n",
       "0           Manhattan             Midtown  40.75362  -73.98377   \n",
       "1            Brooklyn        Clinton Hill  40.68514  -73.95976   \n",
       "2           Manhattan         Murray Hill  40.74767  -73.97500   \n",
       "3            Brooklyn  Bedford-Stuyvesant  40.68688  -73.95596   \n",
       "4           Manhattan      Hell's Kitchen  40.76489  -73.98493   \n",
       "\n",
       "         room_type  price  minimum_nights  number_of_reviews last_review  \\\n",
       "0  Entire home/apt    225               7                 48  2019-11-04   \n",
       "1  Entire home/apt     89               1                298  2019-11-27   \n",
       "2  Entire home/apt    200               3                 78  2019-10-13   \n",
       "3     Private room     60              29                 50  2019-12-02   \n",
       "4     Private room     79               2                459  2019-12-12   \n",
       "\n",
       "   reviews_per_month  calculated_host_listings_count  availability_365  \n",
       "0               0.39                               2               365  \n",
       "1               4.65                               1               161  \n",
       "2               0.60                               1                 0  \n",
       "3               0.39                               1                 0  \n",
       "4               3.53                               1               233  "
      ]
     },
     "execution_count": 4,
     "metadata": {},
     "output_type": "execute_result"
    }
   ],
   "source": [
    "data = pd.concat((pd.read_csv(file) for file in files), ignore_index=True)\n",
    "data.head()"
   ]
  },
  {
   "cell_type": "code",
   "execution_count": 5,
   "metadata": {},
   "outputs": [
    {
     "data": {
      "text/plain": [
       "(570365, 16)"
      ]
     },
     "execution_count": 5,
     "metadata": {},
     "output_type": "execute_result"
    }
   ],
   "source": [
    "data.shape"
   ]
  },
  {
   "cell_type": "code",
   "execution_count": 6,
   "metadata": {},
   "outputs": [],
   "source": [
    "data.drop_duplicates(keep=False,inplace=True)"
   ]
  },
  {
   "cell_type": "code",
   "execution_count": 7,
   "metadata": {},
   "outputs": [
    {
     "data": {
      "text/html": [
       "<div>\n",
       "<style scoped>\n",
       "    .dataframe tbody tr th:only-of-type {\n",
       "        vertical-align: middle;\n",
       "    }\n",
       "\n",
       "    .dataframe tbody tr th {\n",
       "        vertical-align: top;\n",
       "    }\n",
       "\n",
       "    .dataframe thead th {\n",
       "        text-align: right;\n",
       "    }\n",
       "</style>\n",
       "<table border=\"1\" class=\"dataframe\">\n",
       "  <thead>\n",
       "    <tr style=\"text-align: right;\">\n",
       "      <th></th>\n",
       "      <th>id</th>\n",
       "      <th>name</th>\n",
       "      <th>host_id</th>\n",
       "      <th>host_name</th>\n",
       "      <th>neighbourhood_group</th>\n",
       "      <th>neighbourhood</th>\n",
       "      <th>latitude</th>\n",
       "      <th>longitude</th>\n",
       "      <th>room_type</th>\n",
       "      <th>price</th>\n",
       "      <th>minimum_nights</th>\n",
       "      <th>number_of_reviews</th>\n",
       "      <th>last_review</th>\n",
       "      <th>reviews_per_month</th>\n",
       "      <th>calculated_host_listings_count</th>\n",
       "      <th>availability_365</th>\n",
       "    </tr>\n",
       "  </thead>\n",
       "  <tbody>\n",
       "    <tr>\n",
       "      <th>1</th>\n",
       "      <td>3831</td>\n",
       "      <td>Cozy Entire Floor of Brownstone</td>\n",
       "      <td>4869</td>\n",
       "      <td>LisaRoxanne</td>\n",
       "      <td>Brooklyn</td>\n",
       "      <td>Clinton Hill</td>\n",
       "      <td>40.68514</td>\n",
       "      <td>-73.95976</td>\n",
       "      <td>Entire home/apt</td>\n",
       "      <td>89</td>\n",
       "      <td>1</td>\n",
       "      <td>298</td>\n",
       "      <td>2019-11-27</td>\n",
       "      <td>4.65</td>\n",
       "      <td>1</td>\n",
       "      <td>161</td>\n",
       "    </tr>\n",
       "    <tr>\n",
       "      <th>2</th>\n",
       "      <td>5099</td>\n",
       "      <td>Large Cozy 1 BR Apartment In Midtown East</td>\n",
       "      <td>7322</td>\n",
       "      <td>Chris</td>\n",
       "      <td>Manhattan</td>\n",
       "      <td>Murray Hill</td>\n",
       "      <td>40.74767</td>\n",
       "      <td>-73.97500</td>\n",
       "      <td>Entire home/apt</td>\n",
       "      <td>200</td>\n",
       "      <td>3</td>\n",
       "      <td>78</td>\n",
       "      <td>2019-10-13</td>\n",
       "      <td>0.60</td>\n",
       "      <td>1</td>\n",
       "      <td>0</td>\n",
       "    </tr>\n",
       "    <tr>\n",
       "      <th>3</th>\n",
       "      <td>5121</td>\n",
       "      <td>BlissArtsSpace!</td>\n",
       "      <td>7356</td>\n",
       "      <td>Garon</td>\n",
       "      <td>Brooklyn</td>\n",
       "      <td>Bedford-Stuyvesant</td>\n",
       "      <td>40.68688</td>\n",
       "      <td>-73.95596</td>\n",
       "      <td>Private room</td>\n",
       "      <td>60</td>\n",
       "      <td>29</td>\n",
       "      <td>50</td>\n",
       "      <td>2019-12-02</td>\n",
       "      <td>0.39</td>\n",
       "      <td>1</td>\n",
       "      <td>0</td>\n",
       "    </tr>\n",
       "    <tr>\n",
       "      <th>4</th>\n",
       "      <td>5178</td>\n",
       "      <td>Large Furnished Room Near B'way</td>\n",
       "      <td>8967</td>\n",
       "      <td>Shunichi</td>\n",
       "      <td>Manhattan</td>\n",
       "      <td>Hell's Kitchen</td>\n",
       "      <td>40.76489</td>\n",
       "      <td>-73.98493</td>\n",
       "      <td>Private room</td>\n",
       "      <td>79</td>\n",
       "      <td>2</td>\n",
       "      <td>459</td>\n",
       "      <td>2019-12-12</td>\n",
       "      <td>3.53</td>\n",
       "      <td>1</td>\n",
       "      <td>233</td>\n",
       "    </tr>\n",
       "    <tr>\n",
       "      <th>5</th>\n",
       "      <td>5203</td>\n",
       "      <td>Cozy Clean Guest Room - Family Apt</td>\n",
       "      <td>7490</td>\n",
       "      <td>MaryEllen</td>\n",
       "      <td>Manhattan</td>\n",
       "      <td>Upper West Side</td>\n",
       "      <td>40.80178</td>\n",
       "      <td>-73.96723</td>\n",
       "      <td>Private room</td>\n",
       "      <td>79</td>\n",
       "      <td>2</td>\n",
       "      <td>118</td>\n",
       "      <td>2017-07-21</td>\n",
       "      <td>0.94</td>\n",
       "      <td>1</td>\n",
       "      <td>0</td>\n",
       "    </tr>\n",
       "  </tbody>\n",
       "</table>\n",
       "</div>"
      ],
      "text/plain": [
       "     id                                       name  host_id    host_name  \\\n",
       "1  3831            Cozy Entire Floor of Brownstone     4869  LisaRoxanne   \n",
       "2  5099  Large Cozy 1 BR Apartment In Midtown East     7322        Chris   \n",
       "3  5121                            BlissArtsSpace!     7356        Garon   \n",
       "4  5178           Large Furnished Room Near B'way      8967     Shunichi   \n",
       "5  5203         Cozy Clean Guest Room - Family Apt     7490    MaryEllen   \n",
       "\n",
       "  neighbourhood_group       neighbourhood  latitude  longitude  \\\n",
       "1            Brooklyn        Clinton Hill  40.68514  -73.95976   \n",
       "2           Manhattan         Murray Hill  40.74767  -73.97500   \n",
       "3            Brooklyn  Bedford-Stuyvesant  40.68688  -73.95596   \n",
       "4           Manhattan      Hell's Kitchen  40.76489  -73.98493   \n",
       "5           Manhattan     Upper West Side  40.80178  -73.96723   \n",
       "\n",
       "         room_type  price  minimum_nights  number_of_reviews last_review  \\\n",
       "1  Entire home/apt     89               1                298  2019-11-27   \n",
       "2  Entire home/apt    200               3                 78  2019-10-13   \n",
       "3     Private room     60              29                 50  2019-12-02   \n",
       "4     Private room     79               2                459  2019-12-12   \n",
       "5     Private room     79               2                118  2017-07-21   \n",
       "\n",
       "   reviews_per_month  calculated_host_listings_count  availability_365  \n",
       "1               4.65                               1               161  \n",
       "2               0.60                               1                 0  \n",
       "3               0.39                               1                 0  \n",
       "4               3.53                               1               233  \n",
       "5               0.94                               1                 0  "
      ]
     },
     "execution_count": 7,
     "metadata": {},
     "output_type": "execute_result"
    }
   ],
   "source": [
    "data.head()"
   ]
  },
  {
   "cell_type": "code",
   "execution_count": 8,
   "metadata": {},
   "outputs": [],
   "source": [
    "#data[data['name'].isnull()].sum()"
   ]
  },
  {
   "cell_type": "code",
   "execution_count": 9,
   "metadata": {},
   "outputs": [
    {
     "data": {
      "text/plain": [
       "id                                    0\n",
       "name                                 49\n",
       "host_id                               0\n",
       "host_name                           263\n",
       "neighbourhood_group                   0\n",
       "neighbourhood                         0\n",
       "latitude                              0\n",
       "longitude                             0\n",
       "room_type                             0\n",
       "price                                 0\n",
       "minimum_nights                        0\n",
       "number_of_reviews                     0\n",
       "last_review                       53998\n",
       "reviews_per_month                 53999\n",
       "calculated_host_listings_count        0\n",
       "availability_365                      0\n",
       "dtype: int64"
      ]
     },
     "execution_count": 9,
     "metadata": {},
     "output_type": "execute_result"
    }
   ],
   "source": [
    "data.isnull().sum()"
   ]
  },
  {
   "cell_type": "code",
   "execution_count": 10,
   "metadata": {},
   "outputs": [
    {
     "data": {
      "text/plain": [
       "0"
      ]
     },
     "execution_count": 10,
     "metadata": {},
     "output_type": "execute_result"
    }
   ],
   "source": [
    "# Fill NaN with an empty string and check missing values again\n",
    "data['name'].fillna('', inplace=True)\n",
    "data['name'].isnull().sum()"
   ]
  },
  {
   "cell_type": "markdown",
   "metadata": {},
   "source": [
    "# 2. Remove punctuation, digits and special characters.\n"
   ]
  },
  {
   "cell_type": "code",
   "execution_count": 11,
   "metadata": {},
   "outputs": [],
   "source": [
    "import re\n"
   ]
  },
  {
   "cell_type": "code",
   "execution_count": 12,
   "metadata": {},
   "outputs": [],
   "source": [
    "def remove_punct(line):\n",
    "    return re.sub('[^A-Za-z]+', ' ', line).lower()\n",
    "\n",
    "data['clean_name'] = data['name'].apply(remove_punct)"
   ]
  },
  {
   "cell_type": "code",
   "execution_count": 13,
   "metadata": {},
   "outputs": [
    {
     "data": {
      "text/html": [
       "<div>\n",
       "<style scoped>\n",
       "    .dataframe tbody tr th:only-of-type {\n",
       "        vertical-align: middle;\n",
       "    }\n",
       "\n",
       "    .dataframe tbody tr th {\n",
       "        vertical-align: top;\n",
       "    }\n",
       "\n",
       "    .dataframe thead th {\n",
       "        text-align: right;\n",
       "    }\n",
       "</style>\n",
       "<table border=\"1\" class=\"dataframe\">\n",
       "  <thead>\n",
       "    <tr style=\"text-align: right;\">\n",
       "      <th></th>\n",
       "      <th>name</th>\n",
       "      <th>clean_name</th>\n",
       "    </tr>\n",
       "  </thead>\n",
       "  <tbody>\n",
       "    <tr>\n",
       "      <th>1</th>\n",
       "      <td>Cozy Entire Floor of Brownstone</td>\n",
       "      <td>cozy entire floor of brownstone</td>\n",
       "    </tr>\n",
       "    <tr>\n",
       "      <th>2</th>\n",
       "      <td>Large Cozy 1 BR Apartment In Midtown East</td>\n",
       "      <td>large cozy br apartment in midtown east</td>\n",
       "    </tr>\n",
       "    <tr>\n",
       "      <th>3</th>\n",
       "      <td>BlissArtsSpace!</td>\n",
       "      <td>blissartsspace</td>\n",
       "    </tr>\n",
       "    <tr>\n",
       "      <th>4</th>\n",
       "      <td>Large Furnished Room Near B'way</td>\n",
       "      <td>large furnished room near b way</td>\n",
       "    </tr>\n",
       "    <tr>\n",
       "      <th>5</th>\n",
       "      <td>Cozy Clean Guest Room - Family Apt</td>\n",
       "      <td>cozy clean guest room family apt</td>\n",
       "    </tr>\n",
       "    <tr>\n",
       "      <th>...</th>\n",
       "      <td>...</td>\n",
       "      <td>...</td>\n",
       "    </tr>\n",
       "    <tr>\n",
       "      <th>570360</th>\n",
       "      <td>Spacious 1 Queen Bedroom in Central Park</td>\n",
       "      <td>spacious queen bedroom in central park</td>\n",
       "    </tr>\n",
       "    <tr>\n",
       "      <th>570361</th>\n",
       "      <td>5,000 sq ft Downtown Brooklyn Penthouse</td>\n",
       "      <td>sq ft downtown brooklyn penthouse</td>\n",
       "    </tr>\n",
       "    <tr>\n",
       "      <th>570362</th>\n",
       "      <td>Spacious 1 Queen Bedroom in Tribeca</td>\n",
       "      <td>spacious queen bedroom in tribeca</td>\n",
       "    </tr>\n",
       "    <tr>\n",
       "      <th>570363</th>\n",
       "      <td>Spacious 1 Full Bedroom in Murray Hill</td>\n",
       "      <td>spacious full bedroom in murray hill</td>\n",
       "    </tr>\n",
       "    <tr>\n",
       "      <th>570364</th>\n",
       "      <td>Cozy Studio in a Brand New Building</td>\n",
       "      <td>cozy studio in a brand new building</td>\n",
       "    </tr>\n",
       "  </tbody>\n",
       "</table>\n",
       "<p>400974 rows × 2 columns</p>\n",
       "</div>"
      ],
      "text/plain": [
       "                                             name  \\\n",
       "1                 Cozy Entire Floor of Brownstone   \n",
       "2       Large Cozy 1 BR Apartment In Midtown East   \n",
       "3                                 BlissArtsSpace!   \n",
       "4                Large Furnished Room Near B'way    \n",
       "5              Cozy Clean Guest Room - Family Apt   \n",
       "...                                           ...   \n",
       "570360   Spacious 1 Queen Bedroom in Central Park   \n",
       "570361    5,000 sq ft Downtown Brooklyn Penthouse   \n",
       "570362        Spacious 1 Queen Bedroom in Tribeca   \n",
       "570363     Spacious 1 Full Bedroom in Murray Hill   \n",
       "570364        Cozy Studio in a Brand New Building   \n",
       "\n",
       "                                     clean_name  \n",
       "1               cozy entire floor of brownstone  \n",
       "2       large cozy br apartment in midtown east  \n",
       "3                               blissartsspace   \n",
       "4              large furnished room near b way   \n",
       "5              cozy clean guest room family apt  \n",
       "...                                         ...  \n",
       "570360   spacious queen bedroom in central park  \n",
       "570361        sq ft downtown brooklyn penthouse  \n",
       "570362        spacious queen bedroom in tribeca  \n",
       "570363     spacious full bedroom in murray hill  \n",
       "570364      cozy studio in a brand new building  \n",
       "\n",
       "[400974 rows x 2 columns]"
      ]
     },
     "execution_count": 13,
     "metadata": {},
     "output_type": "execute_result"
    }
   ],
   "source": [
    "# Let's compare raw and cleaned texts.\n",
    "data[['name', 'clean_name']]"
   ]
  },
  {
   "cell_type": "markdown",
   "metadata": {},
   "source": [
    "# 3. Get rid of stopwords\n"
   ]
  },
  {
   "cell_type": "code",
   "execution_count": 14,
   "metadata": {},
   "outputs": [],
   "source": [
    "import requests\n",
    "from nltk import FreqDist\n",
    "from nltk.corpus import stopwords\n",
    "import seaborn as sns\n",
    "%matplotlib inline"
   ]
  },
  {
   "cell_type": "code",
   "execution_count": 15,
   "metadata": {},
   "outputs": [],
   "source": [
    "from nltk.corpus import stopwords"
   ]
  },
  {
   "cell_type": "code",
   "execution_count": 16,
   "metadata": {},
   "outputs": [],
   "source": [
    "#print(stopwords.words('english'))"
   ]
  },
  {
   "cell_type": "code",
   "execution_count": 17,
   "metadata": {},
   "outputs": [],
   "source": [
    "import spacy"
   ]
  },
  {
   "cell_type": "code",
   "execution_count": 18,
   "metadata": {},
   "outputs": [],
   "source": [
    "import nltk \n"
   ]
  },
  {
   "cell_type": "code",
   "execution_count": 19,
   "metadata": {
    "scrolled": true
   },
   "outputs": [],
   "source": [
    "nlp = spacy.load(\"en_core_web_sm\")"
   ]
  },
  {
   "cell_type": "code",
   "execution_count": 20,
   "metadata": {},
   "outputs": [],
   "source": [
    "\n",
    "stopwords = nlp.Defaults.stop_words"
   ]
  },
  {
   "cell_type": "code",
   "execution_count": 21,
   "metadata": {},
   "outputs": [],
   "source": [
    "def tokenize_no_stopwords(line):\n",
    "    tokens = nltk.tokenize.word_tokenize(line)\n",
    "    tokens_no_stop = [w for w in tokens if w not in stopwords]\n",
    "    return \" \".join(tokens_no_stop)"
   ]
  },
  {
   "cell_type": "code",
   "execution_count": 22,
   "metadata": {},
   "outputs": [],
   "source": [
    "data['final_name'] = data['clean_name'].apply(tokenize_no_stopwords)"
   ]
  },
  {
   "cell_type": "code",
   "execution_count": 23,
   "metadata": {},
   "outputs": [
    {
     "data": {
      "text/html": [
       "<div>\n",
       "<style scoped>\n",
       "    .dataframe tbody tr th:only-of-type {\n",
       "        vertical-align: middle;\n",
       "    }\n",
       "\n",
       "    .dataframe tbody tr th {\n",
       "        vertical-align: top;\n",
       "    }\n",
       "\n",
       "    .dataframe thead th {\n",
       "        text-align: right;\n",
       "    }\n",
       "</style>\n",
       "<table border=\"1\" class=\"dataframe\">\n",
       "  <thead>\n",
       "    <tr style=\"text-align: right;\">\n",
       "      <th></th>\n",
       "      <th>clean_name</th>\n",
       "      <th>final_name</th>\n",
       "    </tr>\n",
       "  </thead>\n",
       "  <tbody>\n",
       "    <tr>\n",
       "      <th>1</th>\n",
       "      <td>cozy entire floor of brownstone</td>\n",
       "      <td>cozy entire floor brownstone</td>\n",
       "    </tr>\n",
       "    <tr>\n",
       "      <th>2</th>\n",
       "      <td>large cozy br apartment in midtown east</td>\n",
       "      <td>large cozy br apartment midtown east</td>\n",
       "    </tr>\n",
       "    <tr>\n",
       "      <th>3</th>\n",
       "      <td>blissartsspace</td>\n",
       "      <td>blissartsspace</td>\n",
       "    </tr>\n",
       "    <tr>\n",
       "      <th>4</th>\n",
       "      <td>large furnished room near b way</td>\n",
       "      <td>large furnished room near b way</td>\n",
       "    </tr>\n",
       "    <tr>\n",
       "      <th>5</th>\n",
       "      <td>cozy clean guest room family apt</td>\n",
       "      <td>cozy clean guest room family apt</td>\n",
       "    </tr>\n",
       "    <tr>\n",
       "      <th>...</th>\n",
       "      <td>...</td>\n",
       "      <td>...</td>\n",
       "    </tr>\n",
       "    <tr>\n",
       "      <th>570360</th>\n",
       "      <td>spacious queen bedroom in central park</td>\n",
       "      <td>spacious queen bedroom central park</td>\n",
       "    </tr>\n",
       "    <tr>\n",
       "      <th>570361</th>\n",
       "      <td>sq ft downtown brooklyn penthouse</td>\n",
       "      <td>sq ft downtown brooklyn penthouse</td>\n",
       "    </tr>\n",
       "    <tr>\n",
       "      <th>570362</th>\n",
       "      <td>spacious queen bedroom in tribeca</td>\n",
       "      <td>spacious queen bedroom tribeca</td>\n",
       "    </tr>\n",
       "    <tr>\n",
       "      <th>570363</th>\n",
       "      <td>spacious full bedroom in murray hill</td>\n",
       "      <td>spacious bedroom murray hill</td>\n",
       "    </tr>\n",
       "    <tr>\n",
       "      <th>570364</th>\n",
       "      <td>cozy studio in a brand new building</td>\n",
       "      <td>cozy studio brand new building</td>\n",
       "    </tr>\n",
       "  </tbody>\n",
       "</table>\n",
       "<p>400974 rows × 2 columns</p>\n",
       "</div>"
      ],
      "text/plain": [
       "                                     clean_name  \\\n",
       "1               cozy entire floor of brownstone   \n",
       "2       large cozy br apartment in midtown east   \n",
       "3                               blissartsspace    \n",
       "4              large furnished room near b way    \n",
       "5              cozy clean guest room family apt   \n",
       "...                                         ...   \n",
       "570360   spacious queen bedroom in central park   \n",
       "570361        sq ft downtown brooklyn penthouse   \n",
       "570362        spacious queen bedroom in tribeca   \n",
       "570363     spacious full bedroom in murray hill   \n",
       "570364      cozy studio in a brand new building   \n",
       "\n",
       "                                  final_name  \n",
       "1               cozy entire floor brownstone  \n",
       "2       large cozy br apartment midtown east  \n",
       "3                             blissartsspace  \n",
       "4            large furnished room near b way  \n",
       "5           cozy clean guest room family apt  \n",
       "...                                      ...  \n",
       "570360   spacious queen bedroom central park  \n",
       "570361     sq ft downtown brooklyn penthouse  \n",
       "570362        spacious queen bedroom tribeca  \n",
       "570363          spacious bedroom murray hill  \n",
       "570364        cozy studio brand new building  \n",
       "\n",
       "[400974 rows x 2 columns]"
      ]
     },
     "execution_count": 23,
     "metadata": {},
     "output_type": "execute_result"
    }
   ],
   "source": [
    "data[['clean_name', 'final_name']]"
   ]
  },
  {
   "cell_type": "code",
   "execution_count": 24,
   "metadata": {},
   "outputs": [],
   "source": [
    "#first concat all the description in one string\n",
    "\n",
    "text = \"\"\n",
    "for i in data['final_name']:\n",
    "    text +=\" \" + i "
   ]
  },
  {
   "cell_type": "code",
   "execution_count": 25,
   "metadata": {},
   "outputs": [],
   "source": [
    "# we tokenize it into separate words\n",
    "\n",
    "tokenized_text = nltk.tokenize.word_tokenize(text)"
   ]
  },
  {
   "cell_type": "code",
   "execution_count": 26,
   "metadata": {},
   "outputs": [],
   "source": [
    "# creating a frequency dictionary with the help of nltk\n",
    "\n",
    "freq_dict = nltk.FreqDist(w for w in tokenized_text)"
   ]
  },
  {
   "cell_type": "code",
   "execution_count": 27,
   "metadata": {},
   "outputs": [
    {
     "data": {
      "text/plain": [
       "FreqDist({'room': 84906, 'bedroom': 64331, 'private': 63547, 'apartment': 54052, 'cozy': 43020, 'apt': 35175, 'studio': 34234, 'brooklyn': 33275, 'manhattan': 32214, 'br': 31093, ...})"
      ]
     },
     "execution_count": 27,
     "metadata": {},
     "output_type": "execute_result"
    }
   ],
   "source": [
    "freq_dict"
   ]
  },
  {
   "cell_type": "code",
   "execution_count": 28,
   "metadata": {},
   "outputs": [
    {
     "data": {
      "text/plain": [
       "nltk.probability.FreqDist"
      ]
     },
     "execution_count": 28,
     "metadata": {},
     "output_type": "execute_result"
    }
   ],
   "source": [
    "type(freq_dict)"
   ]
  },
  {
   "cell_type": "code",
   "execution_count": 29,
   "metadata": {},
   "outputs": [],
   "source": [
    "import matplotlib.pyplot as plt\n",
    "import matplotlib.image as mpimg\n",
    "%matplotlib inline\n",
    "import seaborn as sns"
   ]
  },
  {
   "cell_type": "code",
   "execution_count": 30,
   "metadata": {},
   "outputs": [
    {
     "data": {
      "image/png": "[encoded data removed]",
      "text/plain": [
       "<Figure size 576x576 with 1 Axes>"
      ]
     },
     "metadata": {
      "needs_background": "light"
     },
     "output_type": "display_data"
    }
   ],
   "source": [
    "#plotting most freq words\n",
    "def plot_most_common(dict_data ,title):\n",
    "    df = pd.DataFrame(dict_data)\n",
    "    df.columns = ['word', 'count']\n",
    "    plt.figure(figsize=(8, 8))\n",
    "    sns.set(style=\"darkgrid\")\n",
    "    sns.barplot(x=\"count\", y=\"word\", data=df, palette='Blues_d')\n",
    "    plt.title(title)\n",
    "    plt.show()\n",
    "    \n",
    "plot_most_common(freq_dict.most_common(20), 'Top 20 most frequent words for NYC Airbnb titles')"
   ]
  },
  {
   "cell_type": "code",
   "execution_count": 31,
   "metadata": {},
   "outputs": [
    {
     "data": {
      "text/plain": [
       "[('room', 84906),\n",
       " ('bedroom', 64331),\n",
       " ('private', 63547),\n",
       " ('apartment', 54052),\n",
       " ('cozy', 43020),\n",
       " ('apt', 35175),\n",
       " ('studio', 34234),\n",
       " ('brooklyn', 33275),\n",
       " ('manhattan', 32214),\n",
       " ('br', 31093),\n",
       " ('spacious', 28569),\n",
       " ('park', 25816),\n",
       " ('near', 22663),\n",
       " ('east', 21677),\n",
       " ('w', 20775),\n",
       " ('beautiful', 20199),\n",
       " ('sunny', 19860),\n",
       " ('bed', 19666),\n",
       " ('nyc', 19468),\n",
       " ('williamsburg', 19301)]"
      ]
     },
     "execution_count": 31,
     "metadata": {},
     "output_type": "execute_result"
    }
   ],
   "source": [
    "freq_dict.most_common(20)"
   ]
  },
  {
   "cell_type": "code",
   "execution_count": 32,
   "metadata": {},
   "outputs": [
    {
     "data": {
      "image/png": "[encoded data removed]",
      "text/plain": [
       "<Figure size 576x576 with 1 Axes>"
      ]
     },
     "metadata": {},
     "output_type": "display_data"
    }
   ],
   "source": [
    "#Most frequent bigrams to describe NYC appartments.\n",
    "freq_dict_bigrams = nltk.FreqDist(nltk.bigrams(w for w in tokenized_text))\n",
    "plot_most_common(freq_dict_bigrams.most_common(20), 'Top 20 frequent bigrams for NYC Airbnb titles')"
   ]
  },
  {
   "cell_type": "code",
   "execution_count": 33,
   "metadata": {},
   "outputs": [
    {
     "data": {
      "image/png": "[encoded data removed]",
      "text/plain": [
       "<Figure size 576x576 with 1 Axes>"
      ]
     },
     "metadata": {},
     "output_type": "display_data"
    }
   ],
   "source": [
    "#Most frequent trigrams to describe NYC appartments.\n",
    "\n",
    "freq_dict_trigrams = nltk.FreqDist(nltk.trigrams(w for w in tokenized_text))\n",
    "plot_most_common(freq_dict_trigrams.most_common(20), 'Top 20 frequent trigrams for NYC Airbnb titles')"
   ]
  },
  {
   "cell_type": "code",
   "execution_count": 34,
   "metadata": {},
   "outputs": [
    {
     "data": {
      "image/png": "[encoded data removed]",
      "text/plain": [
       "<Figure size 576x576 with 1 Axes>"
      ]
     },
     "metadata": {},
     "output_type": "display_data"
    }
   ],
   "source": [
    "# First, we are going to take a look at the price distribution\n",
    "plt.figure(figsize=(8, 8))\n",
    "sns.distplot(data['price'])\n",
    "plt.show()"
   ]
  },
  {
   "cell_type": "code",
   "execution_count": 35,
   "metadata": {},
   "outputs": [
    {
     "data": {
      "text/plain": [
       "count    400974.000000\n",
       "mean        153.611586\n",
       "std         374.686385\n",
       "min           0.000000\n",
       "25%          65.000000\n",
       "50%         100.000000\n",
       "75%         168.000000\n",
       "max       25000.000000\n",
       "Name: price, dtype: float64"
      ]
     },
     "execution_count": 35,
     "metadata": {},
     "output_type": "execute_result"
    }
   ],
   "source": [
    "data['price'].describe()\n"
   ]
  },
  {
   "cell_type": "code",
   "execution_count": 36,
   "metadata": {},
   "outputs": [
    {
     "data": {
      "text/plain": [
       "100     14533\n",
       "150     14435\n",
       "50      11786\n",
       "60      10379\n",
       "75       9977\n",
       "        ...  \n",
       "1628        1\n",
       "734         1\n",
       "1117        1\n",
       "862         1\n",
       "2047        1\n",
       "Name: price, Length: 1152, dtype: int64"
      ]
     },
     "execution_count": 36,
     "metadata": {},
     "output_type": "execute_result"
    }
   ],
   "source": [
    "data['price'].value_counts()"
   ]
  },
  {
   "cell_type": "code",
   "execution_count": 37,
   "metadata": {},
   "outputs": [],
   "source": [
    "#most apartments have a rent below 200 dollars"
   ]
  },
  {
   "cell_type": "markdown",
   "metadata": {},
   "source": [
    "# Most frequent wordings for expensive places"
   ]
  },
  {
   "cell_type": "markdown",
   "metadata": {},
   "source": [
    "exploring the titles of the appartments that cost more than 200 for a night."
   ]
  },
  {
   "cell_type": "code",
   "execution_count": 38,
   "metadata": {},
   "outputs": [
    {
     "data": {
      "text/plain": [
       "(62932, 18)"
      ]
     },
     "execution_count": 38,
     "metadata": {},
     "output_type": "execute_result"
    }
   ],
   "source": [
    "costly = data[data['price']>200]\n",
    "costly.shape"
   ]
  },
  {
   "cell_type": "code",
   "execution_count": 39,
   "metadata": {},
   "outputs": [
    {
     "data": {
      "text/html": [
       "<div>\n",
       "<style scoped>\n",
       "    .dataframe tbody tr th:only-of-type {\n",
       "        vertical-align: middle;\n",
       "    }\n",
       "\n",
       "    .dataframe tbody tr th {\n",
       "        vertical-align: top;\n",
       "    }\n",
       "\n",
       "    .dataframe thead th {\n",
       "        text-align: right;\n",
       "    }\n",
       "</style>\n",
       "<table border=\"1\" class=\"dataframe\">\n",
       "  <thead>\n",
       "    <tr style=\"text-align: right;\">\n",
       "      <th></th>\n",
       "      <th>id</th>\n",
       "      <th>name</th>\n",
       "      <th>host_id</th>\n",
       "      <th>host_name</th>\n",
       "      <th>neighbourhood_group</th>\n",
       "      <th>neighbourhood</th>\n",
       "      <th>latitude</th>\n",
       "      <th>longitude</th>\n",
       "      <th>room_type</th>\n",
       "      <th>price</th>\n",
       "      <th>minimum_nights</th>\n",
       "      <th>number_of_reviews</th>\n",
       "      <th>last_review</th>\n",
       "      <th>reviews_per_month</th>\n",
       "      <th>calculated_host_listings_count</th>\n",
       "      <th>availability_365</th>\n",
       "      <th>clean_name</th>\n",
       "      <th>final_name</th>\n",
       "    </tr>\n",
       "  </thead>\n",
       "  <tbody>\n",
       "    <tr>\n",
       "      <th>42</th>\n",
       "      <td>14290</td>\n",
       "      <td>* ORIGINAL BROOKLYN LOFT *</td>\n",
       "      <td>56104</td>\n",
       "      <td>James</td>\n",
       "      <td>Brooklyn</td>\n",
       "      <td>Williamsburg</td>\n",
       "      <td>40.70420</td>\n",
       "      <td>-73.93560</td>\n",
       "      <td>Entire home/apt</td>\n",
       "      <td>228</td>\n",
       "      <td>3</td>\n",
       "      <td>90</td>\n",
       "      <td>2019-12-14</td>\n",
       "      <td>0.73</td>\n",
       "      <td>1</td>\n",
       "      <td>179</td>\n",
       "      <td>original brooklyn loft</td>\n",
       "      <td>original brooklyn loft</td>\n",
       "    </tr>\n",
       "    <tr>\n",
       "      <th>51</th>\n",
       "      <td>15396</td>\n",
       "      <td>Sunny &amp; Spacious Chelsea Apartment</td>\n",
       "      <td>60278</td>\n",
       "      <td>Petra</td>\n",
       "      <td>Manhattan</td>\n",
       "      <td>Chelsea</td>\n",
       "      <td>40.74623</td>\n",
       "      <td>-73.99530</td>\n",
       "      <td>Entire home/apt</td>\n",
       "      <td>375</td>\n",
       "      <td>180</td>\n",
       "      <td>5</td>\n",
       "      <td>2018-11-03</td>\n",
       "      <td>0.11</td>\n",
       "      <td>1</td>\n",
       "      <td>179</td>\n",
       "      <td>sunny spacious chelsea apartment</td>\n",
       "      <td>sunny spacious chelsea apartment</td>\n",
       "    </tr>\n",
       "    <tr>\n",
       "      <th>59</th>\n",
       "      <td>16595</td>\n",
       "      <td>LOFT HAVEN ~ Six Windows ~ Bricks ~ Plants ~ Q...</td>\n",
       "      <td>64522</td>\n",
       "      <td>Daniel</td>\n",
       "      <td>Brooklyn</td>\n",
       "      <td>Williamsburg</td>\n",
       "      <td>40.70933</td>\n",
       "      <td>-73.96792</td>\n",
       "      <td>Entire home/apt</td>\n",
       "      <td>250</td>\n",
       "      <td>1</td>\n",
       "      <td>167</td>\n",
       "      <td>2020-01-01</td>\n",
       "      <td>1.49</td>\n",
       "      <td>1</td>\n",
       "      <td>365</td>\n",
       "      <td>loft haven six windows bricks plants quiet</td>\n",
       "      <td>loft haven windows bricks plants quiet</td>\n",
       "    </tr>\n",
       "    <tr>\n",
       "      <th>61</th>\n",
       "      <td>16974</td>\n",
       "      <td>SpaHa Loft: Enormous and Bright</td>\n",
       "      <td>65837</td>\n",
       "      <td>Robin</td>\n",
       "      <td>Manhattan</td>\n",
       "      <td>East Harlem</td>\n",
       "      <td>40.80164</td>\n",
       "      <td>-73.93922</td>\n",
       "      <td>Entire home/apt</td>\n",
       "      <td>225</td>\n",
       "      <td>4</td>\n",
       "      <td>208</td>\n",
       "      <td>2019-12-14</td>\n",
       "      <td>1.71</td>\n",
       "      <td>1</td>\n",
       "      <td>241</td>\n",
       "      <td>spaha loft enormous and bright</td>\n",
       "      <td>spaha loft enormous bright</td>\n",
       "    </tr>\n",
       "    <tr>\n",
       "      <th>62</th>\n",
       "      <td>17037</td>\n",
       "      <td>Lovely EV Artist's Home</td>\n",
       "      <td>66035</td>\n",
       "      <td>Anna</td>\n",
       "      <td>Manhattan</td>\n",
       "      <td>East Village</td>\n",
       "      <td>40.72162</td>\n",
       "      <td>-73.98008</td>\n",
       "      <td>Entire home/apt</td>\n",
       "      <td>250</td>\n",
       "      <td>5</td>\n",
       "      <td>51</td>\n",
       "      <td>2019-10-24</td>\n",
       "      <td>0.43</td>\n",
       "      <td>1</td>\n",
       "      <td>177</td>\n",
       "      <td>lovely ev artist s home</td>\n",
       "      <td>lovely ev artist s home</td>\n",
       "    </tr>\n",
       "  </tbody>\n",
       "</table>\n",
       "</div>"
      ],
      "text/plain": [
       "       id                                               name  host_id  \\\n",
       "42  14290                         * ORIGINAL BROOKLYN LOFT *    56104   \n",
       "51  15396                 Sunny & Spacious Chelsea Apartment    60278   \n",
       "59  16595  LOFT HAVEN ~ Six Windows ~ Bricks ~ Plants ~ Q...    64522   \n",
       "61  16974                    SpaHa Loft: Enormous and Bright    65837   \n",
       "62  17037                            Lovely EV Artist's Home    66035   \n",
       "\n",
       "   host_name neighbourhood_group neighbourhood  latitude  longitude  \\\n",
       "42     James            Brooklyn  Williamsburg  40.70420  -73.93560   \n",
       "51     Petra           Manhattan       Chelsea  40.74623  -73.99530   \n",
       "59    Daniel            Brooklyn  Williamsburg  40.70933  -73.96792   \n",
       "61     Robin           Manhattan   East Harlem  40.80164  -73.93922   \n",
       "62      Anna           Manhattan  East Village  40.72162  -73.98008   \n",
       "\n",
       "          room_type  price  minimum_nights  number_of_reviews last_review  \\\n",
       "42  Entire home/apt    228               3                 90  2019-12-14   \n",
       "51  Entire home/apt    375             180                  5  2018-11-03   \n",
       "59  Entire home/apt    250               1                167  2020-01-01   \n",
       "61  Entire home/apt    225               4                208  2019-12-14   \n",
       "62  Entire home/apt    250               5                 51  2019-10-24   \n",
       "\n",
       "    reviews_per_month  calculated_host_listings_count  availability_365  \\\n",
       "42               0.73                               1               179   \n",
       "51               0.11                               1               179   \n",
       "59               1.49                               1               365   \n",
       "61               1.71                               1               241   \n",
       "62               0.43                               1               177   \n",
       "\n",
       "                                    clean_name  \\\n",
       "42                     original brooklyn loft    \n",
       "51            sunny spacious chelsea apartment   \n",
       "59  loft haven six windows bricks plants quiet   \n",
       "61              spaha loft enormous and bright   \n",
       "62                     lovely ev artist s home   \n",
       "\n",
       "                                final_name  \n",
       "42                  original brooklyn loft  \n",
       "51        sunny spacious chelsea apartment  \n",
       "59  loft haven windows bricks plants quiet  \n",
       "61              spaha loft enormous bright  \n",
       "62                 lovely ev artist s home  "
      ]
     },
     "execution_count": 39,
     "metadata": {},
     "output_type": "execute_result"
    }
   ],
   "source": [
    "costly.head()"
   ]
  },
  {
   "cell_type": "code",
   "execution_count": 40,
   "metadata": {},
   "outputs": [],
   "source": [
    "# first, we need to concatenate all descriptions in one string\n",
    "costly_text = \"\"\n",
    "for i in costly['final_name']:\n",
    "    costly_text += \" \" + i\n",
    "    \n",
    "# next, we tokenize it into separate words\n",
    "tokenized_costly_text = nltk.tokenize.word_tokenize(costly_text)\n",
    "\n",
    "# finally, create a frequency dictionary with the help of nltk\n",
    "freq_dict_costly = nltk.FreqDist(w for w in tokenized_costly_text)"
   ]
  },
  {
   "cell_type": "code",
   "execution_count": 41,
   "metadata": {},
   "outputs": [
    {
     "data": {
      "image/png": "[encoded data removed]",
      "text/plain": [
       "<Figure size 576x576 with 1 Axes>"
      ]
     },
     "metadata": {},
     "output_type": "display_data"
    }
   ],
   "source": [
    "plot_most_common(freq_dict_costly.most_common(20), \"Top 20 words in costly apartments' titles\")\n"
   ]
  },
  {
   "cell_type": "code",
   "execution_count": 42,
   "metadata": {},
   "outputs": [
    {
     "data": {
      "image/png": "[encoded data removed]",
      "text/plain": [
       "<Figure size 576x576 with 1 Axes>"
      ]
     },
     "metadata": {},
     "output_type": "display_data"
    }
   ],
   "source": [
    "freq_dict_bigrams_costly = nltk.FreqDist(nltk.bigrams(w for w in tokenized_costly_text))\n",
    "plot_most_common(freq_dict_bigrams_costly.most_common(20), \"Top 20 bigrams in pricy apartments' titles\")"
   ]
  },
  {
   "cell_type": "code",
   "execution_count": 43,
   "metadata": {},
   "outputs": [
    {
     "data": {
      "image/png": "[encoded data removed]",
      "text/plain": [
       "<Figure size 576x576 with 1 Axes>"
      ]
     },
     "metadata": {},
     "output_type": "display_data"
    }
   ],
   "source": [
    "freq_dict_trigrams_costly = nltk.FreqDist(nltk.trigrams(w for w in tokenized_costly_text))\n",
    "plot_most_common(freq_dict_trigrams_costly.most_common(20), \"Top 20 trigrams in pricy apartments' titles\")"
   ]
  },
  {
   "cell_type": "code",
   "execution_count": 44,
   "metadata": {},
   "outputs": [
    {
     "data": {
      "text/plain": [
       "0    397232\n",
       "1      3742\n",
       "Name: target, dtype: int64"
      ]
     },
     "execution_count": 44,
     "metadata": {},
     "output_type": "execute_result"
    }
   ],
   "source": [
    "def new_target(price):\n",
    "    if price > 800:\n",
    "        return 1\n",
    "    else:\n",
    "        return 0\n",
    "        \n",
    "data['target'] = data['price'].apply(new_target)\n",
    "data['target'].value_counts()"
   ]
  },
  {
   "cell_type": "code",
   "execution_count": 46,
   "metadata": {},
   "outputs": [],
   "source": [
    "from sklearn.model_selection import train_test_split"
   ]
  },
  {
   "cell_type": "code",
   "execution_count": 47,
   "metadata": {},
   "outputs": [],
   "source": [
    "\n",
    "train, test = train_test_split(data, test_size=0.2, random_state=315, stratify=data['target'])\n",
    "\n",
    "X_train, y_train = train['final_name'], train['target']\n",
    "X_test, y_test = test['final_name'], test['target']"
   ]
  },
  {
   "cell_type": "code",
   "execution_count": 48,
   "metadata": {},
   "outputs": [
    {
     "data": {
      "text/plain": [
       "325526    luxury single bed share room w gender\n",
       "453858                 baltic bedroom apartment\n",
       "272740                    cozy central park pad\n",
       "Name: final_name, dtype: object"
      ]
     },
     "execution_count": 48,
     "metadata": {},
     "output_type": "execute_result"
    }
   ],
   "source": [
    "X_train.head(3)"
   ]
  },
  {
   "cell_type": "code",
   "execution_count": 49,
   "metadata": {},
   "outputs": [
    {
     "data": {
      "text/plain": [
       "325526    0\n",
       "453858    0\n",
       "272740    0\n",
       "336166    0\n",
       "560584    0\n",
       "         ..\n",
       "273704    0\n",
       "328831    0\n",
       "350059    0\n",
       "140276    0\n",
       "478828    0\n",
       "Name: target, Length: 320779, dtype: int64"
      ]
     },
     "execution_count": 49,
     "metadata": {},
     "output_type": "execute_result"
    }
   ],
   "source": [
    "y_train"
   ]
  },
  {
   "cell_type": "code",
   "execution_count": 50,
   "metadata": {},
   "outputs": [
    {
     "data": {
      "text/plain": [
       "((320779,), (320779,), (80195,), (80195,))"
      ]
     },
     "execution_count": 50,
     "metadata": {},
     "output_type": "execute_result"
    }
   ],
   "source": [
    "\n",
    "X_train.shape, y_train.shape, X_test.shape, y_test.shape"
   ]
  },
  {
   "cell_type": "code",
   "execution_count": 52,
   "metadata": {},
   "outputs": [],
   "source": [
    "from sklearn.feature_extraction.text import TfidfVectorizer\n"
   ]
  },
  {
   "cell_type": "code",
   "execution_count": 53,
   "metadata": {},
   "outputs": [],
   "source": [
    "vect = TfidfVectorizer()\n",
    "X_train = vect.fit_transform(X_train)\n",
    "X_test = vect.transform(X_test)"
   ]
  },
  {
   "cell_type": "code",
   "execution_count": 54,
   "metadata": {},
   "outputs": [
    {
     "data": {
      "text/plain": [
       "<80195x7849 sparse matrix of type '<class 'numpy.float64'>'\n",
       "\twith 388716 stored elements in Compressed Sparse Row format>"
      ]
     },
     "execution_count": 54,
     "metadata": {},
     "output_type": "execute_result"
    }
   ],
   "source": [
    "X_test"
   ]
  },
  {
   "cell_type": "markdown",
   "metadata": {},
   "source": [
    "TF-IDF is an abbreviation for Term Frequency Inverse Document Frequency. This is very common algorithm to transform text into a meaningful representation of numbers which is used to fit machine algorithm for prediction."
   ]
  },
  {
   "cell_type": "code",
   "execution_count": 56,
   "metadata": {},
   "outputs": [],
   "source": [
    "import imblearn"
   ]
  },
  {
   "cell_type": "code",
   "execution_count": 58,
   "metadata": {},
   "outputs": [],
   "source": [
    "from imblearn.over_sampling import (RandomOverSampler, \n",
    "                                    SMOTE, \n",
    "                                    ADASYN)"
   ]
  },
  {
   "cell_type": "code",
   "execution_count": 59,
   "metadata": {},
   "outputs": [
    {
     "data": {
      "text/plain": [
       "array([317785, 317785], dtype=int64)"
      ]
     },
     "execution_count": 59,
     "metadata": {},
     "output_type": "execute_result"
    }
   ],
   "source": [
    "#here the classes are not balanced\n",
    "\n",
    "ros = RandomOverSampler(sampling_strategy='minority', random_state=1)\n",
    "\n",
    "X_train_ros, y_train_ros = ros.fit_sample(X_train, y_train)\n",
    "np.bincount(y_train_ros)"
   ]
  },
  {
   "cell_type": "code",
   "execution_count": 61,
   "metadata": {},
   "outputs": [],
   "source": [
    "import lightgbm \n",
    "from lightgbm import *"
   ]
  },
  {
   "cell_type": "code",
   "execution_count": 62,
   "metadata": {},
   "outputs": [],
   "source": [
    "lr = LGBMClassifier(random_state=315)\n",
    "lr.fit(X_train_ros, y_train_ros)\n",
    "preds = lr.predict(X_test)"
   ]
  },
  {
   "cell_type": "code",
   "execution_count": 63,
   "metadata": {},
   "outputs": [
    {
     "data": {
      "text/plain": [
       "array([0, 0, 0, ..., 0, 0, 1], dtype=int64)"
      ]
     },
     "execution_count": 63,
     "metadata": {},
     "output_type": "execute_result"
    }
   ],
   "source": [
    "preds"
   ]
  },
  {
   "cell_type": "code",
   "execution_count": 65,
   "metadata": {},
   "outputs": [],
   "source": [
    "from sklearn.metrics import classification_report"
   ]
  },
  {
   "cell_type": "code",
   "execution_count": 66,
   "metadata": {},
   "outputs": [
    {
     "data": {
      "text/html": [
       "<div>\n",
       "<style scoped>\n",
       "    .dataframe tbody tr th:only-of-type {\n",
       "        vertical-align: middle;\n",
       "    }\n",
       "\n",
       "    .dataframe tbody tr th {\n",
       "        vertical-align: top;\n",
       "    }\n",
       "\n",
       "    .dataframe thead th {\n",
       "        text-align: right;\n",
       "    }\n",
       "</style>\n",
       "<table border=\"1\" class=\"dataframe\">\n",
       "  <thead>\n",
       "    <tr style=\"text-align: right;\">\n",
       "      <th></th>\n",
       "      <th>0</th>\n",
       "      <th>1</th>\n",
       "      <th>accuracy</th>\n",
       "      <th>macro avg</th>\n",
       "      <th>weighted avg</th>\n",
       "    </tr>\n",
       "  </thead>\n",
       "  <tbody>\n",
       "    <tr>\n",
       "      <th>precision</th>\n",
       "      <td>0.999197</td>\n",
       "      <td>0.086782</td>\n",
       "      <td>0.908735</td>\n",
       "      <td>0.542989</td>\n",
       "      <td>0.990687</td>\n",
       "    </tr>\n",
       "    <tr>\n",
       "      <th>recall</th>\n",
       "      <td>0.908606</td>\n",
       "      <td>0.922460</td>\n",
       "      <td>0.908735</td>\n",
       "      <td>0.915533</td>\n",
       "      <td>0.908735</td>\n",
       "    </tr>\n",
       "    <tr>\n",
       "      <th>f1-score</th>\n",
       "      <td>0.951751</td>\n",
       "      <td>0.158639</td>\n",
       "      <td>0.908735</td>\n",
       "      <td>0.555195</td>\n",
       "      <td>0.944353</td>\n",
       "    </tr>\n",
       "    <tr>\n",
       "      <th>support</th>\n",
       "      <td>79447.000000</td>\n",
       "      <td>748.000000</td>\n",
       "      <td>0.908735</td>\n",
       "      <td>80195.000000</td>\n",
       "      <td>80195.000000</td>\n",
       "    </tr>\n",
       "  </tbody>\n",
       "</table>\n",
       "</div>"
      ],
      "text/plain": [
       "                      0           1  accuracy     macro avg  weighted avg\n",
       "precision      0.999197    0.086782  0.908735      0.542989      0.990687\n",
       "recall         0.908606    0.922460  0.908735      0.915533      0.908735\n",
       "f1-score       0.951751    0.158639  0.908735      0.555195      0.944353\n",
       "support    79447.000000  748.000000  0.908735  80195.000000  80195.000000"
      ]
     },
     "execution_count": 66,
     "metadata": {},
     "output_type": "execute_result"
    }
   ],
   "source": [
    "report_dict = classification_report(y_test, preds, output_dict=True)\n",
    "pd.DataFrame(report_dict)"
   ]
  },
  {
   "cell_type": "code",
   "execution_count": 69,
   "metadata": {},
   "outputs": [],
   "source": [
    "from sklearn.metrics import confusion_matrix"
   ]
  },
  {
   "cell_type": "code",
   "execution_count": 70,
   "metadata": {},
   "outputs": [],
   "source": [
    "def draw_cm(y_test, y_pred):\n",
    "    cm = confusion_matrix(y_test, y_pred)\n",
    "    cm_norm = cm.astype('float') / cm.sum(axis=1)[:, np.newaxis]\n",
    "    df_cm = pd.DataFrame(cm_norm)\n",
    "    plt.figure(figsize = (6,4))\n",
    "    sns.heatmap(df_cm, annot=True, cmap=\"Blues\")\n",
    "    plt.xlabel(\"Predicted class\")\n",
    "    plt.ylabel(\"True class\")\n",
    "    print(\"Accuracy: {0:.3f}\".format(accuracy_score(y_test, y_pred)))\n",
    "    print(\"Recall: {0:.3f}\".format(recall_score(y_test, y_pred)))\n",
    "    plt.show()"
   ]
  },
  {
   "cell_type": "code",
   "execution_count": 72,
   "metadata": {},
   "outputs": [],
   "source": [
    "from sklearn.metrics import accuracy_score"
   ]
  },
  {
   "cell_type": "code",
   "execution_count": 74,
   "metadata": {},
   "outputs": [],
   "source": [
    "from sklearn.metrics import precision_score, \\\n",
    "    recall_score, confusion_matrix, classification_report, \\\n",
    "    accuracy_score, f1_score\n"
   ]
  },
  {
   "cell_type": "code",
   "execution_count": 75,
   "metadata": {},
   "outputs": [
    {
     "name": "stdout",
     "output_type": "stream",
     "text": [
      "Accuracy: 0.909\n",
      "Recall: 0.922\n"
     ]
    },
    {
     "data": {
      "image/png": "[encoded data removed]",
      "text/plain": [
       "<Figure size 432x288 with 2 Axes>"
      ]
     },
     "metadata": {},
     "output_type": "display_data"
    }
   ],
   "source": [
    "draw_cm(y_test, preds)"
   ]
  },
  {
   "cell_type": "code",
   "execution_count": null,
   "metadata": {},
   "outputs": [],
   "source": []
  },
  {
   "cell_type": "code",
   "execution_count": null,
   "metadata": {},
   "outputs": [],
   "source": []
  },
  {
   "cell_type": "code",
   "execution_count": null,
   "metadata": {},
   "outputs": [],
   "source": []
  },
  {
   "cell_type": "code",
   "execution_count": null,
   "metadata": {},
   "outputs": [],
   "source": []
  }
 ],
 "metadata": {
  "kernelspec": {
   "display_name": "Python 3",
   "language": "python",
   "name": "python3"
  },
  "language_info": {
   "codemirror_mode": {
    "name": "ipython",
    "version": 3
   },
   "file_extension": ".py",
   "mimetype": "text/x-python",
   "name": "python",
   "nbconvert_exporter": "python",
   "pygments_lexer": "ipython3",
   "version": "3.7.6"
  }
 },
 "nbformat": 4,
 "nbformat_minor": 4
}
